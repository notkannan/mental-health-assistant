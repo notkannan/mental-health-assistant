{
  "cells": [
    {
      "cell_type": "code",
      "execution_count": null,
      "metadata": {
        "colab": {
          "base_uri": "https://localhost:8080/"
        },
        "id": "maE56IVccWUY",
        "outputId": "53fbbf59-06c6-4e42-d723-4404ca74a5b8"
      },
      "outputs": [
        {
          "output_type": "stream",
          "name": "stdout",
          "text": [
            "Requirement already satisfied: datasets in /usr/local/lib/python3.10/dist-packages (3.2.0)\n",
            "Requirement already satisfied: filelock in /usr/local/lib/python3.10/dist-packages (from datasets) (3.16.1)\n",
            "Requirement already satisfied: numpy>=1.17 in /usr/local/lib/python3.10/dist-packages (from datasets) (1.26.4)\n",
            "Requirement already satisfied: pyarrow>=15.0.0 in /usr/local/lib/python3.10/dist-packages (from datasets) (17.0.0)\n",
            "Requirement already satisfied: dill<0.3.9,>=0.3.0 in /usr/local/lib/python3.10/dist-packages (from datasets) (0.3.8)\n",
            "Requirement already satisfied: pandas in /usr/local/lib/python3.10/dist-packages (from datasets) (2.2.2)\n",
            "Requirement already satisfied: requests>=2.32.2 in /usr/local/lib/python3.10/dist-packages (from datasets) (2.32.3)\n",
            "Requirement already satisfied: tqdm>=4.66.3 in /usr/local/lib/python3.10/dist-packages (from datasets) (4.67.1)\n",
            "Requirement already satisfied: xxhash in /usr/local/lib/python3.10/dist-packages (from datasets) (3.5.0)\n",
            "Requirement already satisfied: multiprocess<0.70.17 in /usr/local/lib/python3.10/dist-packages (from datasets) (0.70.16)\n",
            "Requirement already satisfied: fsspec<=2024.9.0,>=2023.1.0 in /usr/local/lib/python3.10/dist-packages (from fsspec[http]<=2024.9.0,>=2023.1.0->datasets) (2024.9.0)\n",
            "Requirement already satisfied: aiohttp in /usr/local/lib/python3.10/dist-packages (from datasets) (3.11.10)\n",
            "Requirement already satisfied: huggingface-hub>=0.23.0 in /usr/local/lib/python3.10/dist-packages (from datasets) (0.27.0)\n",
            "Requirement already satisfied: packaging in /usr/local/lib/python3.10/dist-packages (from datasets) (24.2)\n",
            "Requirement already satisfied: pyyaml>=5.1 in /usr/local/lib/python3.10/dist-packages (from datasets) (6.0.2)\n",
            "Requirement already satisfied: aiohappyeyeballs>=2.3.0 in /usr/local/lib/python3.10/dist-packages (from aiohttp->datasets) (2.4.4)\n",
            "Requirement already satisfied: aiosignal>=1.1.2 in /usr/local/lib/python3.10/dist-packages (from aiohttp->datasets) (1.3.2)\n",
            "Requirement already satisfied: async-timeout<6.0,>=4.0 in /usr/local/lib/python3.10/dist-packages (from aiohttp->datasets) (4.0.3)\n",
            "Requirement already satisfied: attrs>=17.3.0 in /usr/local/lib/python3.10/dist-packages (from aiohttp->datasets) (24.3.0)\n",
            "Requirement already satisfied: frozenlist>=1.1.1 in /usr/local/lib/python3.10/dist-packages (from aiohttp->datasets) (1.5.0)\n",
            "Requirement already satisfied: multidict<7.0,>=4.5 in /usr/local/lib/python3.10/dist-packages (from aiohttp->datasets) (6.1.0)\n",
            "Requirement already satisfied: propcache>=0.2.0 in /usr/local/lib/python3.10/dist-packages (from aiohttp->datasets) (0.2.1)\n",
            "Requirement already satisfied: yarl<2.0,>=1.17.0 in /usr/local/lib/python3.10/dist-packages (from aiohttp->datasets) (1.18.3)\n",
            "Requirement already satisfied: typing-extensions>=3.7.4.3 in /usr/local/lib/python3.10/dist-packages (from huggingface-hub>=0.23.0->datasets) (4.12.2)\n",
            "Requirement already satisfied: charset-normalizer<4,>=2 in /usr/local/lib/python3.10/dist-packages (from requests>=2.32.2->datasets) (3.4.0)\n",
            "Requirement already satisfied: idna<4,>=2.5 in /usr/local/lib/python3.10/dist-packages (from requests>=2.32.2->datasets) (3.10)\n",
            "Requirement already satisfied: urllib3<3,>=1.21.1 in /usr/local/lib/python3.10/dist-packages (from requests>=2.32.2->datasets) (2.2.3)\n",
            "Requirement already satisfied: certifi>=2017.4.17 in /usr/local/lib/python3.10/dist-packages (from requests>=2.32.2->datasets) (2024.12.14)\n",
            "Requirement already satisfied: python-dateutil>=2.8.2 in /usr/local/lib/python3.10/dist-packages (from pandas->datasets) (2.8.2)\n",
            "Requirement already satisfied: pytz>=2020.1 in /usr/local/lib/python3.10/dist-packages (from pandas->datasets) (2024.2)\n",
            "Requirement already satisfied: tzdata>=2022.7 in /usr/local/lib/python3.10/dist-packages (from pandas->datasets) (2024.2)\n",
            "Requirement already satisfied: six>=1.5 in /usr/local/lib/python3.10/dist-packages (from python-dateutil>=2.8.2->pandas->datasets) (1.17.0)\n"
          ]
        }
      ],
      "source": [
        "pip install datasets\n"
      ]
    },
    {
      "cell_type": "code",
      "execution_count": null,
      "metadata": {
        "colab": {
          "base_uri": "https://localhost:8080/"
        },
        "id": "NmQOW7bXcaB7",
        "outputId": "6fd41a3f-6e1f-4603-a287-0f57e37c553e"
      },
      "outputs": [
        {
          "output_type": "stream",
          "name": "stderr",
          "text": [
            "Repo card metadata block was not found. Setting CardData to empty.\n",
            "WARNING:huggingface_hub.repocard:Repo card metadata block was not found. Setting CardData to empty.\n"
          ]
        }
      ],
      "source": [
        "from datasets import load_dataset\n",
        "\n",
        "dataset = load_dataset(\"nbertagnolli/counsel-chat\")"
      ]
    },
    {
      "cell_type": "code",
      "execution_count": null,
      "metadata": {
        "colab": {
          "base_uri": "https://localhost:8080/"
        },
        "id": "W4AtVerucei6",
        "outputId": "d902c6ad-78ac-446c-f80a-c29152657635"
      },
      "outputs": [
        {
          "output_type": "execute_result",
          "data": {
            "text/plain": [
              "DatasetDict({\n",
              "    train: Dataset({\n",
              "        features: ['questionID', 'questionTitle', 'questionText', 'questionLink', 'topic', 'therapistInfo', 'therapistURL', 'answerText', 'upvotes', 'views'],\n",
              "        num_rows: 2775\n",
              "    })\n",
              "})"
            ]
          },
          "metadata": {},
          "execution_count": 66
        }
      ],
      "source": [
        "dataset"
      ]
    },
    {
      "cell_type": "code",
      "execution_count": null,
      "metadata": {
        "colab": {
          "base_uri": "https://localhost:8080/"
        },
        "id": "eS_jRuMWchas",
        "outputId": "5e1ff7fd-c64c-4878-bead-2f6b18e5261b"
      },
      "outputs": [
        {
          "output_type": "stream",
          "name": "stdout",
          "text": [
            "   questionID                              questionTitle  \\\n",
            "0           0  Do I have too many issues for counseling?   \n",
            "1           0  Do I have too many issues for counseling?   \n",
            "2           0  Do I have too many issues for counseling?   \n",
            "3           0  Do I have too many issues for counseling?   \n",
            "4           0  Do I have too many issues for counseling?   \n",
            "\n",
            "                                        questionText  \\\n",
            "0  I have so many issues to address. I have a his...   \n",
            "1  I have so many issues to address. I have a his...   \n",
            "2  I have so many issues to address. I have a his...   \n",
            "3  I have so many issues to address. I have a his...   \n",
            "4  I have so many issues to address. I have a his...   \n",
            "\n",
            "                                        questionLink       topic  \\\n",
            "0  https://counselchat.com/questions/do-i-have-to...  depression   \n",
            "1  https://counselchat.com/questions/do-i-have-to...  depression   \n",
            "2  https://counselchat.com/questions/do-i-have-to...  depression   \n",
            "3  https://counselchat.com/questions/do-i-have-to...  depression   \n",
            "4  https://counselchat.com/questions/do-i-have-to...  depression   \n",
            "\n",
            "                                       therapistInfo  \\\n",
            "0  Jennifer MolinariHypnotherapist & Licensed Cou...   \n",
            "1  Jason Lynch, MS, LMHC, LCAC, ADSIndividual & C...   \n",
            "2  Shakeeta TorresFaith Based Mental Health Couns...   \n",
            "3  Noorayne ChevalierMA, RP, CCC, CCAC, LLP (Mich...   \n",
            "4  Toni Teixeira, LCSWYour road to healing begins...   \n",
            "\n",
            "                                        therapistURL  \\\n",
            "0  https://counselchat.com/therapists/jennifer-mo...   \n",
            "1  https://counselchat.com/therapists/jason-lynch...   \n",
            "2  https://counselchat.com/therapists/shakeeta-to...   \n",
            "3  https://counselchat.com/therapists/noorayne-ch...   \n",
            "4  https://counselchat.com/therapists/toni-teixei...   \n",
            "\n",
            "                                          answerText  upvotes  views  \n",
            "0  It is very common for people to have multiple ...        3   1971  \n",
            "1  I've never heard of someone having \"too many i...        2    386  \n",
            "2  Absolutely not.  I strongly recommending worki...        2   3071  \n",
            "3  Let me start by saying there are never too man...        2   2643  \n",
            "4  I just want to acknowledge you for the courage...        1    256  \n"
          ]
        }
      ],
      "source": [
        "import pandas as pd\n",
        "# Convert the dataset to a Pandas DataFrame\n",
        "counsel_chat_df = pd.DataFrame(dataset[\"train\"])\n",
        "\n",
        "# Preview the dataset\n",
        "print(counsel_chat_df.head())"
      ]
    },
    {
      "cell_type": "code",
      "execution_count": null,
      "metadata": {
        "colab": {
          "base_uri": "https://localhost:8080/"
        },
        "id": "8yhuvrWCcjap",
        "outputId": "ebddc176-25f1-4b5e-f16c-163f43b35d43"
      },
      "outputs": [
        {
          "output_type": "stream",
          "name": "stdout",
          "text": [
            "╒════╤══════════════╤═══════════════════════════════════════════╤═════════════════════════════════════════════════════════════════════════════════════════════════════════════════════════════════════════════════════════════════════════════════════════════════════════════════════════════════════════════════════════════════════════════════════╤════════════════════════════════════════════════════════════════════════════╤════════════╤══════════════════════════════════════════════════════════════╤═════════════════════════════════════════════════════════════════╤══════════════════════════════════════════════════════════════════════════════════════════════════════════════════════════════════════════════════════════════════════════════════════════════════════════════════════════════════════════════════════════════════════════════════════════════════════════════════════════════════════════════════════════════════════════════════════════════════════════════════════════════════════════════════════════════════════════════════════════════════════════════════════════════════════════════════════════════════════════════════════════════════════════════════════════════════════════════════════════════════════════════════════════════════════════════════════════════════════════════════════════════════════════════════════════════════════════════════════════════════════════════════════════════════════════════════════════════════════════════════════════════════════════════════════════════════════════════════════════════════════════════════════════════════════════════════════════════════════════════════════════════════════════════════════════════════════════════════════════════════════════════════════════════════════════════════════════════════════════════════════════════════════════════════════════════════════════════════════════════════════════════════════════════════════════════════════════════════════════════════════════════════════════════════════════════════════════════════════════════════════════════════════════════════════════════════════════════════════════╤═══════════╤═════════╕\n",
            "│    │   questionID │ questionTitle                             │ questionText                                                                                                                                                                                                                                                                        │ questionLink                                                               │ topic      │ therapistInfo                                                │ therapistURL                                                    │ answerText                                                                                                                                                                                                                                                                                                                                                                                                                                                                                                                                                                                                                                                                                                                                                                                                                                                                                                                                                                                                                                                                                                                                                                                                                                                                                                                                                                                                                                                                                                                                                               │   upvotes │   views │\n",
            "╞════╪══════════════╪═══════════════════════════════════════════╪═════════════════════════════════════════════════════════════════════════════════════════════════════════════════════════════════════════════════════════════════════════════════════════════════════════════════════════════════════════════════════════════════════════════════════╪════════════════════════════════════════════════════════════════════════════╪════════════╪══════════════════════════════════════════════════════════════╪═════════════════════════════════════════════════════════════════╪══════════════════════════════════════════════════════════════════════════════════════════════════════════════════════════════════════════════════════════════════════════════════════════════════════════════════════════════════════════════════════════════════════════════════════════════════════════════════════════════════════════════════════════════════════════════════════════════════════════════════════════════════════════════════════════════════════════════════════════════════════════════════════════════════════════════════════════════════════════════════════════════════════════════════════════════════════════════════════════════════════════════════════════════════════════════════════════════════════════════════════════════════════════════════════════════════════════════════════════════════════════════════════════════════════════════════════════════════════════════════════════════════════════════════════════════════════════════════════════════════════════════════════════════════════════════════════════════════════════════════════════════════════════════════════════════════════════════════════════════════════════════════════════════════════════════════════════════════════════════════════════════════════════════════════════════════════════════════════════════════════════════════════════════════════════════════════════════════════════════════════════════════════════════════════════════════════════════════════════════════════════════════════════════════════════════════════════════════════════╪═══════════╪═════════╡\n",
            "│  0 │            0 │ Do I have too many issues for counseling? │ I have so many issues to address. I have a history of sexual abuse, I’m a breast cancer survivor and I am a lifetime insomniac.    I have a long history of depression and I’m beginning to have anxiety. I have low self esteem but I’ve been happily married for almost 35 years. │ https://counselchat.com/questions/do-i-have-too-many-issues-for-counseling │ depression │ Jennifer MolinariHypnotherapist & Licensed Counselor         │ https://counselchat.com/therapists/jennifer-molinari            │ It is very common for people to have multiple issues that they want to (and need to) address in counseling.  I have had clients ask that same question and through more exploration, there is often an underlying fear that they  \"can't be helped\" or that they will \"be too much for their therapist.\" I don't know if any of this rings true for you. But, most people have more than one problem in their lives and more often than not,  people have numerous significant stressors in their lives.  Let's face it, life can be complicated! Therapists are completely ready and equipped to handle all of the issues small or large that a client presents in session. Most therapists over the first couple of sessions will help you prioritize the issues you are facing so that you start addressing the issues that are causing you the most distress.  You can never have too many issues to address in counseling.  All of the issues you mention above can be successfully worked through in counseling.                                                                                                                                                                                                                                                                                                                                                                                                                                                                                                                                                   │         3 │    1971 │\n",
            "│    │              │                                           │    I’ve never had counseling about any of this. Do I have too many issues to address in counseling?                                                                                                                                                                                 │                                                                            │            │                                                              │                                                                 │                                                                                                                                                                                                                                                                                                                                                                                                                                                                                                                                                                                                                                                                                                                                                                                                                                                                                                                                                                                                                                                                                                                                                                                                                                                                                                                                                                                                                                                                                                                                                                          │           │         │\n",
            "├────┼──────────────┼───────────────────────────────────────────┼─────────────────────────────────────────────────────────────────────────────────────────────────────────────────────────────────────────────────────────────────────────────────────────────────────────────────────────────────────────────────────────────────────────────────────┼────────────────────────────────────────────────────────────────────────────┼────────────┼──────────────────────────────────────────────────────────────┼─────────────────────────────────────────────────────────────────┼──────────────────────────────────────────────────────────────────────────────────────────────────────────────────────────────────────────────────────────────────────────────────────────────────────────────────────────────────────────────────────────────────────────────────────────────────────────────────────────────────────────────────────────────────────────────────────────────────────────────────────────────────────────────────────────────────────────────────────────────────────────────────────────────────────────────────────────────────────────────────────────────────────────────────────────────────────────────────────────────────────────────────────────────────────────────────────────────────────────────────────────────────────────────────────────────────────────────────────────────────────────────────────────────────────────────────────────────────────────────────────────────────────────────────────────────────────────────────────────────────────────────────────────────────────────────────────────────────────────────────────────────────────────────────────────────────────────────────────────────────────────────────────────────────────────────────────────────────────────────────────────────────────────────────────────────────────────────────────────────────────────────────────────────────────────────────────────────────────────────────────────────────────────────────────────────────────────────────────────────────────────────────────────────────────────────────────────────────────────┼───────────┼─────────┤\n",
            "│  1 │            0 │ Do I have too many issues for counseling? │ I have so many issues to address. I have a history of sexual abuse, I’m a breast cancer survivor and I am a lifetime insomniac.    I have a long history of depression and I’m beginning to have anxiety. I have low self esteem but I’ve been happily married for almost 35 years. │ https://counselchat.com/questions/do-i-have-too-many-issues-for-counseling │ depression │ Jason Lynch, MS, LMHC, LCAC, ADSIndividual & Couples Therapy │ https://counselchat.com/therapists/jason-lynch-ms-lmhc-lcac-ads │ I've never heard of someone having \"too many issues\" for therapy to be effective. A competent therapist will assist you in identifying the root causes of your problems and treat those first. If the underlying issues are addressed, your various symptoms should improve. For example, a history of sexual trauma can cause sleep disturbances, depression, anxiety, and low self-worth. I would start by addressing the underlying trauma using EMDR Therapy. EMDR allows the client to process unresolved trauma and to address negative core beliefs that develop in response to the trauma. By addressing these negative beliefs about ourselves, we can improve our self-esteem and feelings of self-worth.                                                                                                                                                                                                                                                                                                                                                                                                                                                                                                                                                                                                                                                                                                                                                                                                                                                      │         2 │     386 │\n",
            "│    │              │                                           │    I’ve never had counseling about any of this. Do I have too many issues to address in counseling?                                                                                                                                                                                 │                                                                            │            │                                                              │                                                                 │                                                                                                                                                                                                                                                                                                                                                                                                                                                                                                                                                                                                                                                                                                                                                                                                                                                                                                                                                                                                                                                                                                                                                                                                                                                                                                                                                                                                                                                                                                                                                                          │           │         │\n",
            "├────┼──────────────┼───────────────────────────────────────────┼─────────────────────────────────────────────────────────────────────────────────────────────────────────────────────────────────────────────────────────────────────────────────────────────────────────────────────────────────────────────────────────────────────────────────────┼────────────────────────────────────────────────────────────────────────────┼────────────┼──────────────────────────────────────────────────────────────┼─────────────────────────────────────────────────────────────────┼──────────────────────────────────────────────────────────────────────────────────────────────────────────────────────────────────────────────────────────────────────────────────────────────────────────────────────────────────────────────────────────────────────────────────────────────────────────────────────────────────────────────────────────────────────────────────────────────────────────────────────────────────────────────────────────────────────────────────────────────────────────────────────────────────────────────────────────────────────────────────────────────────────────────────────────────────────────────────────────────────────────────────────────────────────────────────────────────────────────────────────────────────────────────────────────────────────────────────────────────────────────────────────────────────────────────────────────────────────────────────────────────────────────────────────────────────────────────────────────────────────────────────────────────────────────────────────────────────────────────────────────────────────────────────────────────────────────────────────────────────────────────────────────────────────────────────────────────────────────────────────────────────────────────────────────────────────────────────────────────────────────────────────────────────────────────────────────────────────────────────────────────────────────────────────────────────────────────────────────────────────────────────────────────────────────────────────────────────────────┼───────────┼─────────┤\n",
            "│  2 │            0 │ Do I have too many issues for counseling? │ I have so many issues to address. I have a history of sexual abuse, I’m a breast cancer survivor and I am a lifetime insomniac.    I have a long history of depression and I’m beginning to have anxiety. I have low self esteem but I’ve been happily married for almost 35 years. │ https://counselchat.com/questions/do-i-have-too-many-issues-for-counseling │ depression │ Shakeeta TorresFaith Based Mental Health Counselor           │ https://counselchat.com/therapists/shakeeta-torres              │ Absolutely not.  I strongly recommending working on one issue/need at a time.  In therapy you will set smart goals and objectives that will help you reach your goals.  I see you as a survivor and not a victim.  Best wishes to you.                                                                                                                                                                                                                                                                                                                                                                                                                                                                                                                                                                                                                                                                                                                                                                                                                                                                                                                                                                                                                                                                                                                                                                                                                                                                                                                                   │         2 │    3071 │\n",
            "│    │              │                                           │    I’ve never had counseling about any of this. Do I have too many issues to address in counseling?                                                                                                                                                                                 │                                                                            │            │                                                              │                                                                 │                                                                                                                                                                                                                                                                                                                                                                                                                                                                                                                                                                                                                                                                                                                                                                                                                                                                                                                                                                                                                                                                                                                                                                                                                                                                                                                                                                                                                                                                                                                                                                          │           │         │\n",
            "├────┼──────────────┼───────────────────────────────────────────┼─────────────────────────────────────────────────────────────────────────────────────────────────────────────────────────────────────────────────────────────────────────────────────────────────────────────────────────────────────────────────────────────────────────────────────┼────────────────────────────────────────────────────────────────────────────┼────────────┼──────────────────────────────────────────────────────────────┼─────────────────────────────────────────────────────────────────┼──────────────────────────────────────────────────────────────────────────────────────────────────────────────────────────────────────────────────────────────────────────────────────────────────────────────────────────────────────────────────────────────────────────────────────────────────────────────────────────────────────────────────────────────────────────────────────────────────────────────────────────────────────────────────────────────────────────────────────────────────────────────────────────────────────────────────────────────────────────────────────────────────────────────────────────────────────────────────────────────────────────────────────────────────────────────────────────────────────────────────────────────────────────────────────────────────────────────────────────────────────────────────────────────────────────────────────────────────────────────────────────────────────────────────────────────────────────────────────────────────────────────────────────────────────────────────────────────────────────────────────────────────────────────────────────────────────────────────────────────────────────────────────────────────────────────────────────────────────────────────────────────────────────────────────────────────────────────────────────────────────────────────────────────────────────────────────────────────────────────────────────────────────────────────────────────────────────────────────────────────────────────────────────────────────────────────────────────────────────┼───────────┼─────────┤\n",
            "│  3 │            0 │ Do I have too many issues for counseling? │ I have so many issues to address. I have a history of sexual abuse, I’m a breast cancer survivor and I am a lifetime insomniac.    I have a long history of depression and I’m beginning to have anxiety. I have low self esteem but I’ve been happily married for almost 35 years. │ https://counselchat.com/questions/do-i-have-too-many-issues-for-counseling │ depression │ Noorayne ChevalierMA, RP, CCC, CCAC, LLP (Michigan)          │ https://counselchat.com/therapists/noorayne-chevalier           │ Let me start by saying there are never too many concerns that you can bring into counselling. In fact, most people who come to see me for counselling have more than one issue they would like to work on in psychotherapy and most times these are all interconnected. In counselling, we work together, collaboratively, to figure out which issues you would like to address first and then together we develop an individualized plan of care. Basically, it’s like a road map of where you want to go, how are you going to get there, looking at stopovers, some scenic routes others possibly not so scenic, however, necessary. Of course, these plans can also change due to internal (what we have control over like our thoughts, feelings and behaviours) or external reasons (those things that are outside our control). I would encourage you to take the next step and reach out to a professional you can trust and build rapport with by co-journeying through whatever concerns you have by examining what has been working so far as you have learned to cope with some of your issues like insomnia, depression and anxiety, as well as being a breast cancer survivor. Then to help you by developing new coping strategies. Psychotherapy can be such a powerful tool to help you get to where it is you want to be. I know you can do it and you will see first-hand how psychotherapy will help you to move past these points in your life where you are feeling stuck. I like to quote Nike where their motto is, “just do it.” You can do it. │         2 │    2643 │\n",
            "│    │              │                                           │    I’ve never had counseling about any of this. Do I have too many issues to address in counseling?                                                                                                                                                                                 │                                                                            │            │                                                              │                                                                 │                                                                                                                                                                                                                                                                                                                                                                                                                                                                                                                                                                                                                                                                                                                                                                                                                                                                                                                                                                                                                                                                                                                                                                                                                                                                                                                                                                                                                                                                                                                                                                          │           │         │\n",
            "├────┼──────────────┼───────────────────────────────────────────┼─────────────────────────────────────────────────────────────────────────────────────────────────────────────────────────────────────────────────────────────────────────────────────────────────────────────────────────────────────────────────────────────────────────────────────┼────────────────────────────────────────────────────────────────────────────┼────────────┼──────────────────────────────────────────────────────────────┼─────────────────────────────────────────────────────────────────┼──────────────────────────────────────────────────────────────────────────────────────────────────────────────────────────────────────────────────────────────────────────────────────────────────────────────────────────────────────────────────────────────────────────────────────────────────────────────────────────────────────────────────────────────────────────────────────────────────────────────────────────────────────────────────────────────────────────────────────────────────────────────────────────────────────────────────────────────────────────────────────────────────────────────────────────────────────────────────────────────────────────────────────────────────────────────────────────────────────────────────────────────────────────────────────────────────────────────────────────────────────────────────────────────────────────────────────────────────────────────────────────────────────────────────────────────────────────────────────────────────────────────────────────────────────────────────────────────────────────────────────────────────────────────────────────────────────────────────────────────────────────────────────────────────────────────────────────────────────────────────────────────────────────────────────────────────────────────────────────────────────────────────────────────────────────────────────────────────────────────────────────────────────────────────────────────────────────────────────────────────────────────────────────────────────────────────────────────────────────┼───────────┼─────────┤\n",
            "│  4 │            0 │ Do I have too many issues for counseling? │ I have so many issues to address. I have a history of sexual abuse, I’m a breast cancer survivor and I am a lifetime insomniac.    I have a long history of depression and I’m beginning to have anxiety. I have low self esteem but I’ve been happily married for almost 35 years. │ https://counselchat.com/questions/do-i-have-too-many-issues-for-counseling │ depression │ Toni Teixeira, LCSWYour road to healing begins here          │ https://counselchat.com/therapists/toni-teixeira-lcsw           │ I just want to acknowledge you for the courage to take the step to get support. It can be overwhelming to have so many things going on, and it might be hard to figure out where to start. I truly believe that one of the biggest advantages to working with a therapist is that a therapist can help you prioritize and work with those issues that need to be addressed first and foremost. A therapist will help you with the flow of dealing with different aspects that come up. Some issues may even be related to one another. For examples, some clients with depression may also feel anxiety about their depression. Also, rest assured, many clients go to therapy for multiple issues. We are complex beings. I encourage you to reach out to a therapist and talk about this concern. You may find out that even upon the first meeting you will feel hopeful that you will be able to create a plan with a therapist to address your issues. I don't believe you have too many issues, I think starting sooner rather than later will put you on the path to healing. Good luck. I am rooting for you!                                                                                                                                                                                                                                                                                                                                                                                                                                                    │         1 │     256 │\n",
            "│    │              │                                           │    I’ve never had counseling about any of this. Do I have too many issues to address in counseling?                                                                                                                                                                                 │                                                                            │            │                                                              │                                                                 │                                                                                                                                                                                                                                                                                                                                                                                                                                                                                                                                                                                                                                                                                                                                                                                                                                                                                                                                                                                                                                                                                                                                                                                                                                                                                                                                                                                                                                                                                                                                                                          │           │         │\n",
            "╘════╧══════════════╧═══════════════════════════════════════════╧═════════════════════════════════════════════════════════════════════════════════════════════════════════════════════════════════════════════════════════════════════════════════════════════════════════════════════════════════════════════════════════════════════════════════════╧════════════════════════════════════════════════════════════════════════════╧════════════╧══════════════════════════════════════════════════════════════╧═════════════════════════════════════════════════════════════════╧══════════════════════════════════════════════════════════════════════════════════════════════════════════════════════════════════════════════════════════════════════════════════════════════════════════════════════════════════════════════════════════════════════════════════════════════════════════════════════════════════════════════════════════════════════════════════════════════════════════════════════════════════════════════════════════════════════════════════════════════════════════════════════════════════════════════════════════════════════════════════════════════════════════════════════════════════════════════════════════════════════════════════════════════════════════════════════════════════════════════════════════════════════════════════════════════════════════════════════════════════════════════════════════════════════════════════════════════════════════════════════════════════════════════════════════════════════════════════════════════════════════════════════════════════════════════════════════════════════════════════════════════════════════════════════════════════════════════════════════════════════════════════════════════════════════════════════════════════════════════════════════════════════════════════════════════════════════════════════════════════════════════════════════════════════════════════════════════════════════════════════════════════════════════════════════════════════════════════════════════════════════════════════════════════════════════════════════════════════════╧═══════════╧═════════╛\n"
          ]
        }
      ],
      "source": [
        "from tabulate import tabulate\n",
        "\n",
        "# Display the first few rows in a formatted table\n",
        "print(tabulate(counsel_chat_df.head(), headers='keys', tablefmt='fancy_grid'))"
      ]
    },
    {
      "cell_type": "code",
      "execution_count": null,
      "metadata": {
        "colab": {
          "base_uri": "https://localhost:8080/"
        },
        "id": "HF68XMLkcmG1",
        "outputId": "d4583e57-a903-4ee1-8efd-3a1a8434864b"
      },
      "outputs": [
        {
          "output_type": "stream",
          "name": "stdout",
          "text": [
            "Index(['questionID', 'questionTitle', 'questionText', 'questionLink', 'topic',\n",
            "       'therapistInfo', 'therapistURL', 'answerText', 'upvotes', 'views'],\n",
            "      dtype='object')\n"
          ]
        }
      ],
      "source": [
        "# List all column names in the DataFrame\n",
        "print(counsel_chat_df.columns)\n"
      ]
    },
    {
      "cell_type": "code",
      "execution_count": null,
      "metadata": {
        "colab": {
          "base_uri": "https://localhost:8080/"
        },
        "id": "BArlOQgccojZ",
        "outputId": "c7282d46-0943-4ebc-a9a3-bcbf61957cc4"
      },
      "outputs": [
        {
          "output_type": "stream",
          "name": "stdout",
          "text": [
            "Dataset Information:\n",
            "<class 'pandas.core.frame.DataFrame'>\n",
            "RangeIndex: 2775 entries, 0 to 2774\n",
            "Data columns (total 10 columns):\n",
            " #   Column         Non-Null Count  Dtype \n",
            "---  ------         --------------  ----- \n",
            " 0   questionID     2775 non-null   int64 \n",
            " 1   questionTitle  2775 non-null   object\n",
            " 2   questionText   2636 non-null   object\n",
            " 3   questionLink   2775 non-null   object\n",
            " 4   topic          2775 non-null   object\n",
            " 5   therapistInfo  2775 non-null   object\n",
            " 6   therapistURL   2775 non-null   object\n",
            " 7   answerText     2749 non-null   object\n",
            " 8   upvotes        2775 non-null   int64 \n",
            " 9   views          2775 non-null   int64 \n",
            "dtypes: int64(3), object(7)\n",
            "memory usage: 216.9+ KB\n",
            "None\n",
            "\n",
            "Unique Topics and Their Counts:\n",
            "topic\n",
            "depression                  465\n",
            "anxiety                     358\n",
            "counseling-fundamentals     270\n",
            "intimacy                    248\n",
            "relationships               202\n",
            "parenting                   191\n",
            "family-conflict             144\n",
            "trauma                      102\n",
            "self-esteem                 100\n",
            "relationship-dissolution     98\n",
            "behavioral-change            69\n",
            "lgbtq                        65\n",
            "marriage                     52\n",
            "anger-management             48\n",
            "spirituality                 47\n",
            "substance-abuse              45\n",
            "professional-ethics          41\n",
            "grief-and-loss               37\n",
            "workplace-relationships      36\n",
            "social-relationships         25\n",
            "diagnosis                    25\n",
            "domestic-violence            21\n",
            "eating-disorders             16\n",
            "legal-regulatory             14\n",
            "stress                       13\n",
            "addiction                    13\n",
            "sleep-improvement            11\n",
            "children-adolescents          8\n",
            "human-sexuality               7\n",
            "military-issues               3\n",
            "self-harm                     1\n",
            "Name: count, dtype: int64\n"
          ]
        }
      ],
      "source": [
        "# Summary of the dataset\n",
        "print(\"Dataset Information:\")\n",
        "print(counsel_chat_df.info())\n",
        "\n",
        "# Check the unique topics and their counts\n",
        "print(\"\\nUnique Topics and Their Counts:\")\n",
        "unique_topics = counsel_chat_df[\"topic\"].value_counts()\n",
        "print(unique_topics)\n",
        "\n",
        "\n"
      ]
    },
    {
      "cell_type": "code",
      "execution_count": null,
      "metadata": {
        "colab": {
          "base_uri": "https://localhost:8080/"
        },
        "id": "VcjiFCOscqg0",
        "outputId": "21dcbfff-d495-4e00-b70e-af5cf97fed21"
      },
      "outputs": [
        {
          "output_type": "stream",
          "name": "stdout",
          "text": [
            "Before Cleaning:\n",
            "<class 'pandas.core.frame.DataFrame'>\n",
            "RangeIndex: 2775 entries, 0 to 2774\n",
            "Data columns (total 10 columns):\n",
            " #   Column         Non-Null Count  Dtype \n",
            "---  ------         --------------  ----- \n",
            " 0   questionID     2775 non-null   int64 \n",
            " 1   questionTitle  2775 non-null   object\n",
            " 2   questionText   2636 non-null   object\n",
            " 3   questionLink   2775 non-null   object\n",
            " 4   topic          2775 non-null   object\n",
            " 5   therapistInfo  2775 non-null   object\n",
            " 6   therapistURL   2775 non-null   object\n",
            " 7   answerText     2749 non-null   object\n",
            " 8   upvotes        2775 non-null   int64 \n",
            " 9   views          2775 non-null   int64 \n",
            "dtypes: int64(3), object(7)\n",
            "memory usage: 216.9+ KB\n",
            "None\n"
          ]
        }
      ],
      "source": [
        "print(\"Before Cleaning:\")\n",
        "print(counsel_chat_df.info())"
      ]
    },
    {
      "cell_type": "code",
      "execution_count": null,
      "metadata": {
        "colab": {
          "base_uri": "https://localhost:8080/"
        },
        "id": "ltAEPtIbcs0n",
        "outputId": "449eb2eb-3b6b-4491-c9ac-6fa77fd48be6"
      },
      "outputs": [
        {
          "output_type": "stream",
          "name": "stdout",
          "text": [
            "Null Values in Each Column:\n",
            "questionID         0\n",
            "questionTitle      0\n",
            "questionText     139\n",
            "questionLink       0\n",
            "topic              0\n",
            "therapistInfo      0\n",
            "therapistURL       0\n",
            "answerText        26\n",
            "upvotes            0\n",
            "views              0\n",
            "dtype: int64\n"
          ]
        }
      ],
      "source": [
        "# Count the number of null values in each column\n",
        "null_counts = counsel_chat_df.isnull().sum()\n",
        "\n",
        "# Display the counts\n",
        "print(\"Null Values in Each Column:\")\n",
        "print(null_counts)\n",
        "\n"
      ]
    },
    {
      "cell_type": "code",
      "execution_count": null,
      "metadata": {
        "colab": {
          "base_uri": "https://localhost:8080/"
        },
        "id": "uTOFyTGNcu5y",
        "outputId": "2e02d6e6-5722-495f-f459-45831f3b451c"
      },
      "outputs": [
        {
          "output_type": "stream",
          "name": "stdout",
          "text": [
            "Null Values After Handling Missing Data:\n",
            "questionID       0\n",
            "questionTitle    0\n",
            "questionText     0\n",
            "questionLink     0\n",
            "topic            0\n",
            "therapistInfo    0\n",
            "therapistURL     0\n",
            "answerText       0\n",
            "upvotes          0\n",
            "views            0\n",
            "dtype: int64\n"
          ]
        }
      ],
      "source": [
        "# Remove rows where 'questionText' or 'answerText' are missing\n",
        "counsel_chat_df = counsel_chat_df.dropna(subset=[\"questionText\", \"answerText\"])\n",
        "\n",
        "# Verify that there are no more missing values in these columns\n",
        "print(\"Null Values After Handling Missing Data:\")\n",
        "print(counsel_chat_df.isnull().sum())\n"
      ]
    },
    {
      "cell_type": "code",
      "execution_count": null,
      "metadata": {
        "id": "2K294X92cw62"
      },
      "outputs": [],
      "source": [
        "# Cleaning Steps:\n",
        "# Drop duplicate rows\n",
        "counsel_chat_df = counsel_chat_df.drop_duplicates()"
      ]
    },
    {
      "cell_type": "code",
      "execution_count": null,
      "metadata": {
        "id": "adWwFhxkcyzx"
      },
      "outputs": [],
      "source": [
        "# Remove rows with missing critical columns\n",
        "critical_columns = [\"questionText\", \"answerText\", \"topic\"]\n",
        "counsel_chat_df = counsel_chat_df.dropna(subset=critical_columns)\n"
      ]
    },
    {
      "cell_type": "code",
      "execution_count": null,
      "metadata": {
        "id": "Su0cRRNDc0oB"
      },
      "outputs": [],
      "source": [
        "# Strip leading/trailing whitespace from text columns\n",
        "text_columns = [\"questionText\", \"answerText\", \"questionTitle\"]\n",
        "for col in text_columns:\n",
        "    counsel_chat_df[col] = counsel_chat_df[col].str.strip()"
      ]
    },
    {
      "cell_type": "code",
      "execution_count": null,
      "metadata": {
        "id": "wZe82qPFc2iV"
      },
      "outputs": [],
      "source": [
        "# Normalize the topics column by converting to lowercase\n",
        "counsel_chat_df[\"topic\"] = counsel_chat_df[\"topic\"].str.lower().str.strip()"
      ]
    },
    {
      "cell_type": "code",
      "execution_count": null,
      "metadata": {
        "colab": {
          "base_uri": "https://localhost:8080/"
        },
        "id": "6adF_uZSc4Mt",
        "outputId": "4020d0bd-8584-4fa3-b072-009a32ac89b0"
      },
      "outputs": [
        {
          "output_type": "stream",
          "name": "stdout",
          "text": [
            "\n",
            "After Cleaning:\n",
            "<class 'pandas.core.frame.DataFrame'>\n",
            "Index: 2612 entries, 0 to 2774\n",
            "Data columns (total 10 columns):\n",
            " #   Column         Non-Null Count  Dtype \n",
            "---  ------         --------------  ----- \n",
            " 0   questionID     2612 non-null   int64 \n",
            " 1   questionTitle  2612 non-null   object\n",
            " 2   questionText   2612 non-null   object\n",
            " 3   questionLink   2612 non-null   object\n",
            " 4   topic          2612 non-null   object\n",
            " 5   therapistInfo  2612 non-null   object\n",
            " 6   therapistURL   2612 non-null   object\n",
            " 7   answerText     2612 non-null   object\n",
            " 8   upvotes        2612 non-null   int64 \n",
            " 9   views          2612 non-null   int64 \n",
            "dtypes: int64(3), object(7)\n",
            "memory usage: 224.5+ KB\n",
            "None\n"
          ]
        }
      ],
      "source": [
        "# Display cleaned dataset information\n",
        "print(\"\\nAfter Cleaning:\")\n",
        "print(counsel_chat_df.info())"
      ]
    },
    {
      "cell_type": "code",
      "execution_count": null,
      "metadata": {
        "colab": {
          "base_uri": "https://localhost:8080/"
        },
        "id": "AL-ZuTU6c53v",
        "outputId": "fc4a67a6-5233-42e7-c095-329d779e420f"
      },
      "outputs": [
        {
          "output_type": "stream",
          "name": "stdout",
          "text": [
            "╒════╤══════════════╤═══════════════════════════════════════════╤═════════════════════════════════════════════════════════════════════════════════════════════════════════════════════════════════════════════════════════════════════════════════════════════════════════════════════════════════════════════════════════════════════════════════════╤════════════════════════════════════════════════════════════════════════════╤════════════╤══════════════════════════════════════════════════════════════╤═════════════════════════════════════════════════════════════════╤══════════════════════════════════════════════════════════════════════════════════════════════════════════════════════════════════════════════════════════════════════════════════════════════════════════════════════════════════════════════════════════════════════════════════════════════════════════════════════════════════════════════════════════════════════════════════════════════════════════════════════════════════════════════════════════════════════════════════════════════════════════════════════════════════════════════════════════════════════════════════════════════════════════════════════════════════════════════════════════════════════════════════════════════════════════════════════════════════════════════════════════════════════════════════════════════════════════════════════════════════════════════════════════════════════════════════════════════════════════════════════════════════════════════════════════════════════════════════════════════════════════════════════════════════════════════════════════════════════════════════════════════════════════════════════════════════════════════════════════════════════════════════════════════════════════════════════════════════════════════════════════════════════════════════════════════════════════════════════════════════════════════════════════════════════════════════════════════════════════════════════════════════════════════════════════════════════════════════════════════════════════════════════════════════════════════════════════════════════════╤═══════════╤═════════╕\n",
            "│    │   questionID │ questionTitle                             │ questionText                                                                                                                                                                                                                                                                        │ questionLink                                                               │ topic      │ therapistInfo                                                │ therapistURL                                                    │ answerText                                                                                                                                                                                                                                                                                                                                                                                                                                                                                                                                                                                                                                                                                                                                                                                                                                                                                                                                                                                                                                                                                                                                                                                                                                                                                                                                                                                                                                                                                                                                                               │   upvotes │   views │\n",
            "╞════╪══════════════╪═══════════════════════════════════════════╪═════════════════════════════════════════════════════════════════════════════════════════════════════════════════════════════════════════════════════════════════════════════════════════════════════════════════════════════════════════════════════════════════════════════════════╪════════════════════════════════════════════════════════════════════════════╪════════════╪══════════════════════════════════════════════════════════════╪═════════════════════════════════════════════════════════════════╪══════════════════════════════════════════════════════════════════════════════════════════════════════════════════════════════════════════════════════════════════════════════════════════════════════════════════════════════════════════════════════════════════════════════════════════════════════════════════════════════════════════════════════════════════════════════════════════════════════════════════════════════════════════════════════════════════════════════════════════════════════════════════════════════════════════════════════════════════════════════════════════════════════════════════════════════════════════════════════════════════════════════════════════════════════════════════════════════════════════════════════════════════════════════════════════════════════════════════════════════════════════════════════════════════════════════════════════════════════════════════════════════════════════════════════════════════════════════════════════════════════════════════════════════════════════════════════════════════════════════════════════════════════════════════════════════════════════════════════════════════════════════════════════════════════════════════════════════════════════════════════════════════════════════════════════════════════════════════════════════════════════════════════════════════════════════════════════════════════════════════════════════════════════════════════════════════════════════════════════════════════════════════════════════════════════════════════════════════════════╪═══════════╪═════════╡\n",
            "│  0 │            0 │ Do I have too many issues for counseling? │ I have so many issues to address. I have a history of sexual abuse, I’m a breast cancer survivor and I am a lifetime insomniac.    I have a long history of depression and I’m beginning to have anxiety. I have low self esteem but I’ve been happily married for almost 35 years. │ https://counselchat.com/questions/do-i-have-too-many-issues-for-counseling │ depression │ Jennifer MolinariHypnotherapist & Licensed Counselor         │ https://counselchat.com/therapists/jennifer-molinari            │ It is very common for people to have multiple issues that they want to (and need to) address in counseling.  I have had clients ask that same question and through more exploration, there is often an underlying fear that they  \"can't be helped\" or that they will \"be too much for their therapist.\" I don't know if any of this rings true for you. But, most people have more than one problem in their lives and more often than not,  people have numerous significant stressors in their lives.  Let's face it, life can be complicated! Therapists are completely ready and equipped to handle all of the issues small or large that a client presents in session. Most therapists over the first couple of sessions will help you prioritize the issues you are facing so that you start addressing the issues that are causing you the most distress.  You can never have too many issues to address in counseling.  All of the issues you mention above can be successfully worked through in counseling.                                                                                                                                                                                                                                                                                                                                                                                                                                                                                                                                                   │         3 │    1971 │\n",
            "│    │              │                                           │    I’ve never had counseling about any of this. Do I have too many issues to address in counseling?                                                                                                                                                                                 │                                                                            │            │                                                              │                                                                 │                                                                                                                                                                                                                                                                                                                                                                                                                                                                                                                                                                                                                                                                                                                                                                                                                                                                                                                                                                                                                                                                                                                                                                                                                                                                                                                                                                                                                                                                                                                                                                          │           │         │\n",
            "├────┼──────────────┼───────────────────────────────────────────┼─────────────────────────────────────────────────────────────────────────────────────────────────────────────────────────────────────────────────────────────────────────────────────────────────────────────────────────────────────────────────────────────────────────────────────┼────────────────────────────────────────────────────────────────────────────┼────────────┼──────────────────────────────────────────────────────────────┼─────────────────────────────────────────────────────────────────┼──────────────────────────────────────────────────────────────────────────────────────────────────────────────────────────────────────────────────────────────────────────────────────────────────────────────────────────────────────────────────────────────────────────────────────────────────────────────────────────────────────────────────────────────────────────────────────────────────────────────────────────────────────────────────────────────────────────────────────────────────────────────────────────────────────────────────────────────────────────────────────────────────────────────────────────────────────────────────────────────────────────────────────────────────────────────────────────────────────────────────────────────────────────────────────────────────────────────────────────────────────────────────────────────────────────────────────────────────────────────────────────────────────────────────────────────────────────────────────────────────────────────────────────────────────────────────────────────────────────────────────────────────────────────────────────────────────────────────────────────────────────────────────────────────────────────────────────────────────────────────────────────────────────────────────────────────────────────────────────────────────────────────────────────────────────────────────────────────────────────────────────────────────────────────────────────────────────────────────────────────────────────────────────────────────────────────────────────────────────┼───────────┼─────────┤\n",
            "│  1 │            0 │ Do I have too many issues for counseling? │ I have so many issues to address. I have a history of sexual abuse, I’m a breast cancer survivor and I am a lifetime insomniac.    I have a long history of depression and I’m beginning to have anxiety. I have low self esteem but I’ve been happily married for almost 35 years. │ https://counselchat.com/questions/do-i-have-too-many-issues-for-counseling │ depression │ Jason Lynch, MS, LMHC, LCAC, ADSIndividual & Couples Therapy │ https://counselchat.com/therapists/jason-lynch-ms-lmhc-lcac-ads │ I've never heard of someone having \"too many issues\" for therapy to be effective. A competent therapist will assist you in identifying the root causes of your problems and treat those first. If the underlying issues are addressed, your various symptoms should improve. For example, a history of sexual trauma can cause sleep disturbances, depression, anxiety, and low self-worth. I would start by addressing the underlying trauma using EMDR Therapy. EMDR allows the client to process unresolved trauma and to address negative core beliefs that develop in response to the trauma. By addressing these negative beliefs about ourselves, we can improve our self-esteem and feelings of self-worth.                                                                                                                                                                                                                                                                                                                                                                                                                                                                                                                                                                                                                                                                                                                                                                                                                                                      │         2 │     386 │\n",
            "│    │              │                                           │    I’ve never had counseling about any of this. Do I have too many issues to address in counseling?                                                                                                                                                                                 │                                                                            │            │                                                              │                                                                 │                                                                                                                                                                                                                                                                                                                                                                                                                                                                                                                                                                                                                                                                                                                                                                                                                                                                                                                                                                                                                                                                                                                                                                                                                                                                                                                                                                                                                                                                                                                                                                          │           │         │\n",
            "├────┼──────────────┼───────────────────────────────────────────┼─────────────────────────────────────────────────────────────────────────────────────────────────────────────────────────────────────────────────────────────────────────────────────────────────────────────────────────────────────────────────────────────────────────────────────┼────────────────────────────────────────────────────────────────────────────┼────────────┼──────────────────────────────────────────────────────────────┼─────────────────────────────────────────────────────────────────┼──────────────────────────────────────────────────────────────────────────────────────────────────────────────────────────────────────────────────────────────────────────────────────────────────────────────────────────────────────────────────────────────────────────────────────────────────────────────────────────────────────────────────────────────────────────────────────────────────────────────────────────────────────────────────────────────────────────────────────────────────────────────────────────────────────────────────────────────────────────────────────────────────────────────────────────────────────────────────────────────────────────────────────────────────────────────────────────────────────────────────────────────────────────────────────────────────────────────────────────────────────────────────────────────────────────────────────────────────────────────────────────────────────────────────────────────────────────────────────────────────────────────────────────────────────────────────────────────────────────────────────────────────────────────────────────────────────────────────────────────────────────────────────────────────────────────────────────────────────────────────────────────────────────────────────────────────────────────────────────────────────────────────────────────────────────────────────────────────────────────────────────────────────────────────────────────────────────────────────────────────────────────────────────────────────────────────────────────────────────┼───────────┼─────────┤\n",
            "│  2 │            0 │ Do I have too many issues for counseling? │ I have so many issues to address. I have a history of sexual abuse, I’m a breast cancer survivor and I am a lifetime insomniac.    I have a long history of depression and I’m beginning to have anxiety. I have low self esteem but I’ve been happily married for almost 35 years. │ https://counselchat.com/questions/do-i-have-too-many-issues-for-counseling │ depression │ Shakeeta TorresFaith Based Mental Health Counselor           │ https://counselchat.com/therapists/shakeeta-torres              │ Absolutely not.  I strongly recommending working on one issue/need at a time.  In therapy you will set smart goals and objectives that will help you reach your goals.  I see you as a survivor and not a victim.  Best wishes to you.                                                                                                                                                                                                                                                                                                                                                                                                                                                                                                                                                                                                                                                                                                                                                                                                                                                                                                                                                                                                                                                                                                                                                                                                                                                                                                                                   │         2 │    3071 │\n",
            "│    │              │                                           │    I’ve never had counseling about any of this. Do I have too many issues to address in counseling?                                                                                                                                                                                 │                                                                            │            │                                                              │                                                                 │                                                                                                                                                                                                                                                                                                                                                                                                                                                                                                                                                                                                                                                                                                                                                                                                                                                                                                                                                                                                                                                                                                                                                                                                                                                                                                                                                                                                                                                                                                                                                                          │           │         │\n",
            "├────┼──────────────┼───────────────────────────────────────────┼─────────────────────────────────────────────────────────────────────────────────────────────────────────────────────────────────────────────────────────────────────────────────────────────────────────────────────────────────────────────────────────────────────────────────────┼────────────────────────────────────────────────────────────────────────────┼────────────┼──────────────────────────────────────────────────────────────┼─────────────────────────────────────────────────────────────────┼──────────────────────────────────────────────────────────────────────────────────────────────────────────────────────────────────────────────────────────────────────────────────────────────────────────────────────────────────────────────────────────────────────────────────────────────────────────────────────────────────────────────────────────────────────────────────────────────────────────────────────────────────────────────────────────────────────────────────────────────────────────────────────────────────────────────────────────────────────────────────────────────────────────────────────────────────────────────────────────────────────────────────────────────────────────────────────────────────────────────────────────────────────────────────────────────────────────────────────────────────────────────────────────────────────────────────────────────────────────────────────────────────────────────────────────────────────────────────────────────────────────────────────────────────────────────────────────────────────────────────────────────────────────────────────────────────────────────────────────────────────────────────────────────────────────────────────────────────────────────────────────────────────────────────────────────────────────────────────────────────────────────────────────────────────────────────────────────────────────────────────────────────────────────────────────────────────────────────────────────────────────────────────────────────────────────────────────────────────────┼───────────┼─────────┤\n",
            "│  3 │            0 │ Do I have too many issues for counseling? │ I have so many issues to address. I have a history of sexual abuse, I’m a breast cancer survivor and I am a lifetime insomniac.    I have a long history of depression and I’m beginning to have anxiety. I have low self esteem but I’ve been happily married for almost 35 years. │ https://counselchat.com/questions/do-i-have-too-many-issues-for-counseling │ depression │ Noorayne ChevalierMA, RP, CCC, CCAC, LLP (Michigan)          │ https://counselchat.com/therapists/noorayne-chevalier           │ Let me start by saying there are never too many concerns that you can bring into counselling. In fact, most people who come to see me for counselling have more than one issue they would like to work on in psychotherapy and most times these are all interconnected. In counselling, we work together, collaboratively, to figure out which issues you would like to address first and then together we develop an individualized plan of care. Basically, it’s like a road map of where you want to go, how are you going to get there, looking at stopovers, some scenic routes others possibly not so scenic, however, necessary. Of course, these plans can also change due to internal (what we have control over like our thoughts, feelings and behaviours) or external reasons (those things that are outside our control). I would encourage you to take the next step and reach out to a professional you can trust and build rapport with by co-journeying through whatever concerns you have by examining what has been working so far as you have learned to cope with some of your issues like insomnia, depression and anxiety, as well as being a breast cancer survivor. Then to help you by developing new coping strategies. Psychotherapy can be such a powerful tool to help you get to where it is you want to be. I know you can do it and you will see first-hand how psychotherapy will help you to move past these points in your life where you are feeling stuck. I like to quote Nike where their motto is, “just do it.” You can do it. │         2 │    2643 │\n",
            "│    │              │                                           │    I’ve never had counseling about any of this. Do I have too many issues to address in counseling?                                                                                                                                                                                 │                                                                            │            │                                                              │                                                                 │                                                                                                                                                                                                                                                                                                                                                                                                                                                                                                                                                                                                                                                                                                                                                                                                                                                                                                                                                                                                                                                                                                                                                                                                                                                                                                                                                                                                                                                                                                                                                                          │           │         │\n",
            "├────┼──────────────┼───────────────────────────────────────────┼─────────────────────────────────────────────────────────────────────────────────────────────────────────────────────────────────────────────────────────────────────────────────────────────────────────────────────────────────────────────────────────────────────────────────────┼────────────────────────────────────────────────────────────────────────────┼────────────┼──────────────────────────────────────────────────────────────┼─────────────────────────────────────────────────────────────────┼──────────────────────────────────────────────────────────────────────────────────────────────────────────────────────────────────────────────────────────────────────────────────────────────────────────────────────────────────────────────────────────────────────────────────────────────────────────────────────────────────────────────────────────────────────────────────────────────────────────────────────────────────────────────────────────────────────────────────────────────────────────────────────────────────────────────────────────────────────────────────────────────────────────────────────────────────────────────────────────────────────────────────────────────────────────────────────────────────────────────────────────────────────────────────────────────────────────────────────────────────────────────────────────────────────────────────────────────────────────────────────────────────────────────────────────────────────────────────────────────────────────────────────────────────────────────────────────────────────────────────────────────────────────────────────────────────────────────────────────────────────────────────────────────────────────────────────────────────────────────────────────────────────────────────────────────────────────────────────────────────────────────────────────────────────────────────────────────────────────────────────────────────────────────────────────────────────────────────────────────────────────────────────────────────────────────────────────────────────────┼───────────┼─────────┤\n",
            "│  4 │            0 │ Do I have too many issues for counseling? │ I have so many issues to address. I have a history of sexual abuse, I’m a breast cancer survivor and I am a lifetime insomniac.    I have a long history of depression and I’m beginning to have anxiety. I have low self esteem but I’ve been happily married for almost 35 years. │ https://counselchat.com/questions/do-i-have-too-many-issues-for-counseling │ depression │ Toni Teixeira, LCSWYour road to healing begins here          │ https://counselchat.com/therapists/toni-teixeira-lcsw           │ I just want to acknowledge you for the courage to take the step to get support. It can be overwhelming to have so many things going on, and it might be hard to figure out where to start. I truly believe that one of the biggest advantages to working with a therapist is that a therapist can help you prioritize and work with those issues that need to be addressed first and foremost. A therapist will help you with the flow of dealing with different aspects that come up. Some issues may even be related to one another. For examples, some clients with depression may also feel anxiety about their depression. Also, rest assured, many clients go to therapy for multiple issues. We are complex beings. I encourage you to reach out to a therapist and talk about this concern. You may find out that even upon the first meeting you will feel hopeful that you will be able to create a plan with a therapist to address your issues. I don't believe you have too many issues, I think starting sooner rather than later will put you on the path to healing. Good luck. I am rooting for you!                                                                                                                                                                                                                                                                                                                                                                                                                                                    │         1 │     256 │\n",
            "│    │              │                                           │    I’ve never had counseling about any of this. Do I have too many issues to address in counseling?                                                                                                                                                                                 │                                                                            │            │                                                              │                                                                 │                                                                                                                                                                                                                                                                                                                                                                                                                                                                                                                                                                                                                                                                                                                                                                                                                                                                                                                                                                                                                                                                                                                                                                                                                                                                                                                                                                                                                                                                                                                                                                          │           │         │\n",
            "╘════╧══════════════╧═══════════════════════════════════════════╧═════════════════════════════════════════════════════════════════════════════════════════════════════════════════════════════════════════════════════════════════════════════════════════════════════════════════════════════════════════════════════════════════════════════════════╧════════════════════════════════════════════════════════════════════════════╧════════════╧══════════════════════════════════════════════════════════════╧═════════════════════════════════════════════════════════════════╧══════════════════════════════════════════════════════════════════════════════════════════════════════════════════════════════════════════════════════════════════════════════════════════════════════════════════════════════════════════════════════════════════════════════════════════════════════════════════════════════════════════════════════════════════════════════════════════════════════════════════════════════════════════════════════════════════════════════════════════════════════════════════════════════════════════════════════════════════════════════════════════════════════════════════════════════════════════════════════════════════════════════════════════════════════════════════════════════════════════════════════════════════════════════════════════════════════════════════════════════════════════════════════════════════════════════════════════════════════════════════════════════════════════════════════════════════════════════════════════════════════════════════════════════════════════════════════════════════════════════════════════════════════════════════════════════════════════════════════════════════════════════════════════════════════════════════════════════════════════════════════════════════════════════════════════════════════════════════════════════════════════════════════════════════════════════════════════════════════════════════════════════════════════════════════════════════════════════════════════════════════════════════════════════════════════════════════════════════════════╧═══════════╧═════════╛\n"
          ]
        }
      ],
      "source": [
        "# Display the first few rows in a formatted table\n",
        "print(tabulate(counsel_chat_df.head(), headers='keys', tablefmt='fancy_grid'))"
      ]
    },
    {
      "cell_type": "code",
      "execution_count": null,
      "metadata": {
        "colab": {
          "base_uri": "https://localhost:8080/"
        },
        "id": "EEUBLewlc7w9",
        "outputId": "e2049c6a-059f-47ca-c131-6f7ed26697f0"
      },
      "outputs": [
        {
          "output_type": "stream",
          "name": "stdout",
          "text": [
            "\n",
            "Example of a Question-Answer Pair:\n",
            "questionText    I have so many issues to address. I have a his...\n",
            "answerText      It is very common for people to have multiple ...\n",
            "Name: 0, dtype: object\n"
          ]
        }
      ],
      "source": [
        "print(\"\\nExample of a Question-Answer Pair:\")\n",
        "example_qa = counsel_chat_df.loc[0, [\"questionText\", \"answerText\"]]\n",
        "print(example_qa)"
      ]
    },
    {
      "cell_type": "code",
      "execution_count": null,
      "metadata": {
        "colab": {
          "base_uri": "https://localhost:8080/"
        },
        "id": "kTrju7PSc-GJ",
        "outputId": "bd3e896f-542f-4203-bc57-a3c1f88d1381"
      },
      "outputs": [
        {
          "output_type": "stream",
          "name": "stdout",
          "text": [
            "count    2612.000000\n",
            "mean      265.558193\n",
            "std       219.160326\n",
            "min        19.000000\n",
            "25%       141.750000\n",
            "50%       231.000000\n",
            "75%       331.250000\n",
            "max      2702.000000\n",
            "Name: questionLength, dtype: float64\n"
          ]
        }
      ],
      "source": [
        "counsel_chat_df[\"questionLength\"] = counsel_chat_df[\"questionText\"].apply(len)\n",
        "print(counsel_chat_df[\"questionLength\"].describe())\n"
      ]
    },
    {
      "cell_type": "code",
      "execution_count": null,
      "metadata": {
        "colab": {
          "base_uri": "https://localhost:8080/"
        },
        "id": "4Cpa5twNc_8m",
        "outputId": "f01a3032-bb55-400f-babf-aa6f104bad3d"
      },
      "outputs": [
        {
          "output_type": "stream",
          "name": "stdout",
          "text": [
            "count    2612.000000\n",
            "mean      966.681087\n",
            "std       681.120428\n",
            "min        10.000000\n",
            "25%       498.000000\n",
            "50%       785.000000\n",
            "75%      1231.250000\n",
            "max      5499.000000\n",
            "Name: answerLength, dtype: float64\n"
          ]
        }
      ],
      "source": [
        "counsel_chat_df[\"answerLength\"] = counsel_chat_df[\"answerText\"].apply(len)\n",
        "print(counsel_chat_df[\"answerLength\"].describe())\n"
      ]
    },
    {
      "cell_type": "code",
      "execution_count": null,
      "metadata": {
        "colab": {
          "base_uri": "https://localhost:8080/"
        },
        "id": "rj_csSwrdByn",
        "outputId": "6fd75991-096a-4d28-9674-e7b47e44ed29"
      },
      "outputs": [
        {
          "output_type": "stream",
          "name": "stdout",
          "text": [
            "topic\n",
            "depression                  453\n",
            "anxiety                     346\n",
            "counseling-fundamentals     266\n",
            "intimacy                    232\n",
            "relationships               195\n",
            "parenting                   184\n",
            "family-conflict             139\n",
            "trauma                       96\n",
            "relationship-dissolution     92\n",
            "self-esteem                  91\n",
            "behavioral-change            60\n",
            "marriage                     52\n",
            "lgbtq                        47\n",
            "anger-management             46\n",
            "spirituality                 46\n",
            "substance-abuse              40\n",
            "workplace-relationships      35\n",
            "professional-ethics          34\n",
            "grief-and-loss               26\n",
            "social-relationships         23\n",
            "diagnosis                    21\n",
            "domestic-violence            21\n",
            "stress                       13\n",
            "eating-disorders             12\n",
            "sleep-improvement            11\n",
            "addiction                     8\n",
            "children-adolescents          8\n",
            "legal-regulatory              8\n",
            "human-sexuality               4\n",
            "military-issues               3\n",
            "Name: count, dtype: int64\n"
          ]
        }
      ],
      "source": [
        "## Frequency of each topic:\n",
        "topic_counts = counsel_chat_df[\"topic\"].value_counts()\n",
        "print(topic_counts)\n"
      ]
    },
    {
      "cell_type": "code",
      "execution_count": null,
      "metadata": {
        "colab": {
          "base_uri": "https://localhost:8080/"
        },
        "id": "mZ9RYHvpdDjE",
        "outputId": "43ce203d-1b67-41a2-f7a0-c22500426284"
      },
      "outputs": [
        {
          "output_type": "stream",
          "name": "stdout",
          "text": [
            "Most Asked Topic: depression (453 questions)\n",
            "Least Asked Topic: military-issues (3 questions)\n"
          ]
        }
      ],
      "source": [
        "# The topic with the highest number of questions\n",
        "most_asked_topic = topic_counts.idxmax()\n",
        "most_asked_count = topic_counts.max()\n",
        "\n",
        "# The topic with the least number of questions\n",
        "least_asked_topic = topic_counts.idxmin()\n",
        "least_asked_count = topic_counts.min()\n",
        "\n",
        "# Displaying the results\n",
        "print(f\"Most Asked Topic: {most_asked_topic} ({most_asked_count} questions)\")\n",
        "print(f\"Least Asked Topic: {least_asked_topic} ({least_asked_count} questions)\")"
      ]
    },
    {
      "cell_type": "code",
      "execution_count": null,
      "metadata": {
        "id": "ZbUAG9a0dFdG"
      },
      "outputs": [],
      "source": [
        "from scipy.stats import pearsonr\n",
        "from sklearn.linear_model import LinearRegression\n",
        "import numpy as np"
      ]
    },
    {
      "cell_type": "code",
      "execution_count": null,
      "metadata": {
        "colab": {
          "base_uri": "https://localhost:8080/"
        },
        "id": "cNGyOoRbdHd1",
        "outputId": "70e55e6d-1832-49fe-c54b-6e01cc7346ed"
      },
      "outputs": [
        {
          "output_type": "stream",
          "name": "stdout",
          "text": [
            "Pearson Correlation Coefficient: 0.44\n",
            "P-value: 5.50e-123\n"
          ]
        }
      ],
      "source": [
        "## Analyze the relation between views and upvotes\n",
        "# Calculate the Pearson correlation coefficient\n",
        "correlation_coefficient, p_value = pearsonr(counsel_chat_df[\"views\"], counsel_chat_df[\"upvotes\"])\n",
        "print(f\"Pearson Correlation Coefficient: {correlation_coefficient:.2f}\")\n",
        "print(f\"P-value: {p_value:.2e}\")"
      ]
    },
    {
      "cell_type": "code",
      "execution_count": null,
      "metadata": {
        "id": "BL4Kc9ekdJMj"
      },
      "outputs": [],
      "source": []
    },
    {
      "cell_type": "markdown",
      "metadata": {
        "id": "dYshf9fndKL-"
      },
      "source": [
        "**Pearson Correlation Coefficient analysis:**\n",
        "* Indicates a moderate positive linear relationship between views and upvotes.\n",
        "* As the number of views increases, upvotes tend to increase as well, but the relationship is not\n",
        "  very strong.\n",
        "* While views have some influence on upvotes, other factors might also play a significant role\n",
        "  (e.g., content quality, relevance, or other variables not captured in the dataset)\n",
        "  \n",
        "**P-value analysis:**\n",
        "* The result is statistically significant, meaning the observed correlation is highly unlikely to\n",
        "  have occurred by random chance.\n",
        "* With such a low p-value, we can confidently state that the correlation between views and          upvotes is real and not due to noise in the data.\n",
        "\n"
      ]
    },
    {
      "cell_type": "code",
      "execution_count": null,
      "metadata": {
        "colab": {
          "base_uri": "https://localhost:8080/",
          "height": 733
        },
        "id": "TVYxHmdodMxS",
        "outputId": "fb67e33a-ba62-46da-897c-88be3b898bf6"
      },
      "outputs": [
        {
          "output_type": "stream",
          "name": "stdout",
          "text": [
            "Top 10 Therapists by Frequency (Names Only):\n",
            "therapistName\n",
            "Sherry Katz                                        461\n",
            "Lauren Ostrowski                                   132\n",
            "Lynda MartensMarriage & Family Therapist           124\n",
            "Kaileen McMickle                                    78\n",
            "Dr. Meredyth LawrynceServing Clients Nationwide     64\n",
            "Name: count, dtype: int64\n"
          ]
        },
        {
          "output_type": "stream",
          "name": "stderr",
          "text": [
            "<ipython-input-87-2205a75a44f4>:24: FutureWarning: \n",
            "\n",
            "Passing `palette` without assigning `hue` is deprecated and will be removed in v0.14.0. Assign the `y` variable to `hue` and set `legend=False` for the same effect.\n",
            "\n",
            "  sns.barplot(x=top_therapist_names.values, y=top_therapist_names.index, palette=\"viridis\")\n"
          ]
        },
        {
          "output_type": "display_data",
          "data": {
            "text/plain": [
              "<Figure size 1000x500 with 1 Axes>"
            ],
            "image/png": "[encoded data removed]"
          },
          "metadata": {}
        }
      ],
      "source": [
        "import matplotlib.pyplot as plt\n",
        "import seaborn as sns\n",
        "import re\n",
        "\n",
        "# Define a function to extract therapist names\n",
        "def extract_name(info):\n",
        "    # Assuming the name is the first part before any delimiter like ',' or '('\n",
        "    match = re.match(r\"^[^\\(,]+\", info.strip())\n",
        "    return match.group(0) if match else info.strip()\n",
        "\n",
        "# Apply the extraction function to the 'therapistInfo' column\n",
        "counsel_chat_df[\"therapistName\"] = counsel_chat_df[\"therapistInfo\"].apply(extract_name)\n",
        "\n",
        "# Count the frequency of each therapist's name\n",
        "therapist_name_frequency = counsel_chat_df[\"therapistName\"].value_counts()\n",
        "\n",
        "# Display the top 10 therapists by frequency\n",
        "top_therapist_names = therapist_name_frequency.head(5)\n",
        "print(\"Top 10 Therapists by Frequency (Names Only):\")\n",
        "print(top_therapist_names)\n",
        "\n",
        "# Plot the top 5 therapist names\n",
        "plt.figure(figsize=(10, 5))\n",
        "sns.barplot(x=top_therapist_names.values, y=top_therapist_names.index, palette=\"viridis\")\n",
        "plt.title(\"Top 5 Therapists by Frequency (Names Only)\", fontsize=16)\n",
        "plt.xlabel(\"Number of Contributions\", fontsize=14)\n",
        "plt.ylabel(\"Therapist Name\", fontsize=14)\n",
        "plt.tight_layout()\n",
        "plt.show()\n"
      ]
    },
    {
      "cell_type": "code",
      "execution_count": null,
      "metadata": {
        "colab": {
          "base_uri": "https://localhost:8080/",
          "height": 694
        },
        "id": "wNLU25ckdP--",
        "outputId": "d51ce00e-91fc-478e-eac2-a1edf8a8a36d"
      },
      "outputs": [
        {
          "output_type": "stream",
          "name": "stderr",
          "text": [
            "<ipython-input-88-45c5d20e9b93>:3: FutureWarning: \n",
            "\n",
            "Passing `palette` without assigning `hue` is deprecated and will be removed in v0.14.0. Assign the `x` variable to `hue` and set `legend=False` for the same effect.\n",
            "\n",
            "  sns.boxplot(data=counsel_chat_df, x=\"topic\", y=\"answerLength\", palette=\"Set3\")\n"
          ]
        },
        {
          "output_type": "display_data",
          "data": {
            "text/plain": [
              "<Figure size 1200x600 with 1 Axes>"
            ],
            "image/png": "[encoded data removed]"
          },
          "metadata": {}
        }
      ],
      "source": [
        "# Box plot of answer lengths by topic\n",
        "plt.figure(figsize=(12, 6))\n",
        "sns.boxplot(data=counsel_chat_df, x=\"topic\", y=\"answerLength\", palette=\"Set3\")\n",
        "plt.xticks(rotation=45)\n",
        "plt.title(\"Answer Lengths by Topic\", fontsize=16)\n",
        "plt.xlabel(\"Topic\", fontsize=14)\n",
        "plt.ylabel(\"Answer Length\", fontsize=14)\n",
        "plt.tight_layout()\n",
        "plt.show()\n"
      ]
    },
    {
      "cell_type": "code",
      "execution_count": null,
      "metadata": {
        "id": "IBQDl5oWdSJ3"
      },
      "outputs": [],
      "source": []
    },
    {
      "cell_type": "markdown",
      "metadata": {
        "id": "UFoiO-yudU3B"
      },
      "source": [
        "## Implications:\n",
        "* Topics like trauma, relationships, and grief-and-loss often have longer responses, which might\n",
        "  reflect the complexity or sensitivity of these issues.\n",
        "* Shorter answers for topics like legal-regulatory and counseling fundamentals suggest that these\n",
        "  topics involve more fact-based or direct guidance rather than detailed discussions\n",
        "* Topics such as relationships, grief-and-loss, and eating disorders exhibit many **outliers** with\n",
        "  longer answers, which could indicate particularly detailed or nuanced responses for specific cases"
      ]
    },
    {
      "cell_type": "code",
      "execution_count": null,
      "metadata": {
        "colab": {
          "base_uri": "https://localhost:8080/",
          "height": 649
        },
        "id": "GJPuVEJwdVb2",
        "outputId": "a44bd573-2ce6-4e94-d000-f2e236ea256b"
      },
      "outputs": [
        {
          "output_type": "stream",
          "name": "stdout",
          "text": [
            "Correlation Matrix:\n",
            "                   views   upvotes  questionLength  answerLength\n",
            "views           1.000000  0.438150        0.054892      0.112681\n",
            "upvotes         0.438150  1.000000        0.133828      0.132583\n",
            "questionLength  0.054892  0.133828        1.000000      0.093861\n",
            "answerLength    0.112681  0.132583        0.093861      1.000000\n"
          ]
        },
        {
          "output_type": "display_data",
          "data": {
            "text/plain": [
              "<Figure size 800x600 with 2 Axes>"
            ],
            "image/png": "[encoded data removed]"
          },
          "metadata": {}
        }
      ],
      "source": [
        "import seaborn as sns\n",
        "import matplotlib.pyplot as plt\n",
        "\n",
        "# Select numeric columns\n",
        "numeric_columns = [\"views\", \"upvotes\", \"questionLength\", \"answerLength\"]\n",
        "correlation_matrix = counsel_chat_df[numeric_columns].corr()\n",
        "\n",
        "# Displaying the correlation matrix\n",
        "print(\"Correlation Matrix:\")\n",
        "print(correlation_matrix)\n",
        "\n",
        "# Visualizing the correlation matrix using a heatmap\n",
        "plt.figure(figsize=(8, 6))\n",
        "sns.heatmap(correlation_matrix, annot=True, cmap=\"coolwarm\", fmt=\".2f\", square=True)\n",
        "plt.title(\"Correlation Matrix Heatmap\")\n",
        "plt.show()"
      ]
    },
    {
      "cell_type": "code",
      "execution_count": null,
      "metadata": {
        "id": "tn9zng1wdXrm"
      },
      "outputs": [],
      "source": []
    },
    {
      "cell_type": "markdown",
      "metadata": {
        "id": "f68pkz6gdahy"
      },
      "source": [
        "## Implications:\n",
        "* A moderate positive correlation indicates that posts with higher views tend to receive more\n",
        "  upvotes. This suggests that popular content (high views) is often perceived as helpful (upvotes)\n",
        "* A very weak positive correlation suggests that the length of the question has little influence on\n",
        "  the length of the response. Counselors may provide detailed responses regardless of how detailed the question is\n",
        "* The heatmap visualizes the correlation matrix using colors:\n",
        "      Red Shades: Represent strong positive correlations (closer to 1.0).\n",
        "      Blue Shades: Represent weak or no correlations (closer to 0.0).\n",
        "      Diagonal Line: Always 1.0 because a variable is perfectly correlated with itself\n"
      ]
    },
    {
      "cell_type": "code",
      "execution_count": null,
      "metadata": {
        "colab": {
          "base_uri": "https://localhost:8080/",
          "height": 607
        },
        "id": "2dG_0IS1da21",
        "outputId": "75ee21d6-2c81-4ca8-a02b-ef248b705a32"
      },
      "outputs": [
        {
          "output_type": "display_data",
          "data": {
            "text/plain": [
              "<Figure size 800x600 with 1 Axes>"
            ],
            "image/png": "[encoded data removed]"
          },
          "metadata": {}
        }
      ],
      "source": [
        "import seaborn as sns\n",
        "import matplotlib.pyplot as plt\n",
        "\n",
        "# Scatter plot with a regression line\n",
        "plt.figure(figsize=(8, 6))\n",
        "sns.regplot(data=counsel_chat_df, x=\"questionLength\", y=\"views\", scatter_kws={\"alpha\": 0.5}, line_kws={\"color\": \"red\"})\n",
        "plt.title(\"Views vs. Question Length\", fontsize=16)\n",
        "plt.xlabel(\"Question Length (characters)\", fontsize=14)\n",
        "plt.ylabel(\"Views\", fontsize=14)\n",
        "plt.tight_layout()\n",
        "plt.show()\n"
      ]
    },
    {
      "cell_type": "code",
      "execution_count": null,
      "metadata": {
        "id": "wZ8N5gzSdf5t"
      },
      "outputs": [],
      "source": []
    },
    {
      "cell_type": "markdown",
      "metadata": {
        "id": "XOZ1sYMadhEg"
      },
      "source": [
        "## Implications:\n",
        "* Most data points are clustered around shorter questions (under ~500 characters), indicating that\n",
        "  the majority of questions in the dataset are concise.\n",
        "* Some outliers with very high views (~10,000–15,000) represent highly popular questions, but these\n",
        "  do not appear strongly related to the length of the question\n",
        "* The regression line (red) is nearly flat, suggesting a very weak positive relationship between\n",
        "  question length and views.\n",
        "* The shaded area around the regression line represents the confidence interval, which is wide,\n",
        "  indicating high uncertainty in the relationship"
      ]
    },
    {
      "cell_type": "code",
      "execution_count": null,
      "metadata": {
        "id": "kDt4yR95dhe7"
      },
      "outputs": [],
      "source": []
    },
    {
      "cell_type": "markdown",
      "metadata": {
        "id": "NkSqQeNMdn64"
      },
      "source": [
        "## To implement the following:\n",
        "  * Deciding on a numeric or categorical piece of information that you can infer or predict using  \n",
        "    the dataset and build an ML model to predict this piece of information based on some input.\n"
      ]
    },
    {
      "cell_type": "code",
      "execution_count": null,
      "metadata": {
        "colab": {
          "base_uri": "https://localhost:8080/",
          "height": 813,
          "referenced_widgets": [
            "95100ce348fa4018afb6e2bfafc12b25",
            "257a0d058a544b75980a6396c4875d11",
            "0b01e6866dc1494ab7156c83905b7d2b",
            "8baccd6f1bc649dfa58c3f73f8d34721",
            "4c3020b206384fbc97e7efd0b584d088",
            "634b442369ea4c50b21e0fda56158a79",
            "9e4d43c7019b4eab9d14186caeb7c2ba",
            "61f2b9d6d99f448a8feff36917690dd4",
            "79b4f408ee914cef96dd99871cbd0304",
            "760b033f0093411fbd1768d61e23dbd3",
            "5c748606946f478faf2d45362860d0a6"
          ]
        },
        "id": "5lspE1jvdobW",
        "outputId": "f546fe05-9e3a-47fb-c092-6814e2f77506"
      },
      "outputs": [
        {
          "output_type": "display_data",
          "data": {
            "text/plain": [
              "Batches:   0%|          | 0/82 [00:00<?, ?it/s]"
            ],
            "application/vnd.jupyter.widget-view+json": {
              "version_major": 2,
              "version_minor": 0,
              "model_id": "95100ce348fa4018afb6e2bfafc12b25"
            }
          },
          "metadata": {}
        },
        {
          "output_type": "stream",
          "name": "stdout",
          "text": [
            "Classification Report:\n",
            "                          precision    recall  f1-score   support\n",
            "\n",
            "               addiction       0.00      0.00      0.00         1\n",
            "        anger-management       1.00      0.29      0.44         7\n",
            "                 anxiety       0.73      0.82      0.77        76\n",
            "       behavioral-change       0.75      0.23      0.35        13\n",
            "    children-adolescents       0.00      0.00      0.00         3\n",
            " counseling-fundamentals       0.96      1.00      0.98        53\n",
            "              depression       0.77      0.90      0.83        94\n",
            "               diagnosis       1.00      0.50      0.67         4\n",
            "       domestic-violence       0.00      0.00      0.00         2\n",
            "        eating-disorders       1.00      1.00      1.00         2\n",
            "         family-conflict       0.69      0.80      0.74        25\n",
            "          grief-and-loss       1.00      0.50      0.67         4\n",
            "         human-sexuality       0.00      0.00      0.00         1\n",
            "                intimacy       0.59      0.74      0.66        43\n",
            "        legal-regulatory       0.00      0.00      0.00         1\n",
            "                   lgbtq       1.00      1.00      1.00        11\n",
            "                marriage       1.00      0.29      0.44         7\n",
            "         military-issues       0.00      0.00      0.00         1\n",
            "               parenting       0.82      0.95      0.88        39\n",
            "     professional-ethics       1.00      0.80      0.89         5\n",
            "relationship-dissolution       0.88      0.88      0.88        16\n",
            "           relationships       0.60      0.61      0.60        46\n",
            "             self-esteem       0.67      0.67      0.67        12\n",
            "       sleep-improvement       0.00      0.00      0.00         3\n",
            "    social-relationships       1.00      0.14      0.25         7\n",
            "            spirituality       0.92      1.00      0.96        12\n",
            "                  stress       1.00      1.00      1.00         2\n",
            "         substance-abuse       0.67      0.33      0.44         6\n",
            "                  trauma       0.82      0.82      0.82        17\n",
            " workplace-relationships       1.00      0.50      0.67        10\n",
            "\n",
            "                accuracy                           0.77       523\n",
            "               macro avg       0.66      0.53      0.55       523\n",
            "            weighted avg       0.77      0.77      0.75       523\n",
            "\n"
          ]
        },
        {
          "output_type": "stream",
          "name": "stderr",
          "text": [
            "/usr/local/lib/python3.10/dist-packages/sklearn/metrics/_classification.py:1565: UndefinedMetricWarning: Precision is ill-defined and being set to 0.0 in labels with no predicted samples. Use `zero_division` parameter to control this behavior.\n",
            "  _warn_prf(average, modifier, f\"{metric.capitalize()} is\", len(result))\n",
            "/usr/local/lib/python3.10/dist-packages/sklearn/metrics/_classification.py:1565: UndefinedMetricWarning: Precision is ill-defined and being set to 0.0 in labels with no predicted samples. Use `zero_division` parameter to control this behavior.\n",
            "  _warn_prf(average, modifier, f\"{metric.capitalize()} is\", len(result))\n",
            "/usr/local/lib/python3.10/dist-packages/sklearn/metrics/_classification.py:1565: UndefinedMetricWarning: Precision is ill-defined and being set to 0.0 in labels with no predicted samples. Use `zero_division` parameter to control this behavior.\n",
            "  _warn_prf(average, modifier, f\"{metric.capitalize()} is\", len(result))\n"
          ]
        }
      ],
      "source": [
        "from sklearn.model_selection import train_test_split\n",
        "from sklearn.linear_model import LogisticRegression\n",
        "from sklearn.metrics import classification_report\n",
        "from sentence_transformers import SentenceTransformer\n",
        "\n",
        "# Step 1: Prepare the Data\n",
        "# Ensure the dataset contains 'questionText' and 'topic'\n",
        "counsel_chat_df = counsel_chat_df.dropna(subset=['questionText', 'topic'])\n",
        "X = counsel_chat_df['questionText']\n",
        "y = counsel_chat_df['topic']\n",
        "\n",
        "# Step 2: Use Sentence-BERT for Embedding\n",
        "model = SentenceTransformer('all-MiniLM-L6-v2')\n",
        "X_embeddings = model.encode(X.tolist(), show_progress_bar=True)\n",
        "\n",
        "# Step 3: Split Data into Train and Test Sets\n",
        "X_train, X_test, y_train, y_test = train_test_split(X_embeddings, y, test_size=0.2, random_state=42)\n",
        "\n",
        "# Step 4: Train a Logistic Regression Classifier\n",
        "classifier = LogisticRegression(max_iter=1000)\n",
        "classifier.fit(X_train, y_train)\n",
        "\n",
        "# Step 5: Evaluate the Model\n",
        "y_pred = classifier.predict(X_test)\n",
        "print(\"Classification Report:\")\n",
        "print(classification_report(y_test, y_pred))\n",
        "\n",
        "# Step 6: Define a Prediction Function\n",
        "def predict_topic(new_question):\n",
        "    \"\"\"\n",
        "    Predict the topic of a new question.\n",
        "    \"\"\"\n",
        "    new_embedding = model.encode([new_question])\n",
        "    predicted_topic = classifier.predict(new_embedding)[0]\n",
        "    return predicted_topic\n",
        "\n"
      ]
    },
    {
      "cell_type": "code",
      "execution_count": null,
      "metadata": {
        "id": "2H61yIvrmflL"
      },
      "outputs": [],
      "source": []
    },
    {
      "cell_type": "code",
      "execution_count": null,
      "metadata": {
        "colab": {
          "base_uri": "https://localhost:8080/"
        },
        "id": "mzhfxBMjmfn6",
        "outputId": "ed128643-aa78-4199-9228-3c5e5c094d76"
      },
      "outputs": [
        {
          "output_type": "stream",
          "name": "stdout",
          "text": [
            "Predicted Topic: anxiety\n"
          ]
        }
      ],
      "source": [
        "# Example question for prediction\n",
        "new_question = \"How can I manage my anxiety in social situations?\"\n",
        "\n",
        "# Predict the topic\n",
        "predicted_topic = predict_topic(new_question)\n",
        "\n",
        "# Print the result\n",
        "print(f\"Predicted Topic: {predicted_topic}\")\n"
      ]
    },
    {
      "cell_type": "code",
      "execution_count": null,
      "metadata": {
        "colab": {
          "base_uri": "https://localhost:8080/"
        },
        "id": "AeCWdeVAmftC",
        "outputId": "63fe0914-0256-4866-e3c0-2f227544f3a7"
      },
      "outputs": [
        {
          "output_type": "stream",
          "name": "stdout",
          "text": [
            "Classification Report:\n",
            "                          precision    recall  f1-score   support\n",
            "\n",
            "               addiction       0.00      0.00      0.00         1\n",
            "        anger-management       0.45      0.71      0.56         7\n",
            "                 anxiety       0.85      0.62      0.72        76\n",
            "       behavioral-change       0.57      0.62      0.59        13\n",
            "    children-adolescents       1.00      1.00      1.00         3\n",
            " counseling-fundamentals       1.00      1.00      1.00        53\n",
            "              depression       0.94      0.77      0.84        94\n",
            "               diagnosis       1.00      1.00      1.00         4\n",
            "       domestic-violence       0.00      0.00      0.00         2\n",
            "        eating-disorders       0.67      1.00      0.80         2\n",
            "         family-conflict       0.67      0.72      0.69        25\n",
            "          grief-and-loss       0.75      0.75      0.75         4\n",
            "         human-sexuality       0.00      0.00      0.00         1\n",
            "                intimacy       0.74      0.53      0.62        43\n",
            "        legal-regulatory       0.33      1.00      0.50         1\n",
            "                   lgbtq       0.73      1.00      0.85        11\n",
            "                marriage       0.56      0.71      0.62         7\n",
            "         military-issues       1.00      1.00      1.00         1\n",
            "               parenting       0.82      0.82      0.82        39\n",
            "     professional-ethics       1.00      1.00      1.00         5\n",
            "relationship-dissolution       0.65      0.94      0.77        16\n",
            "           relationships       0.64      0.59      0.61        46\n",
            "             self-esteem       0.36      0.75      0.49        12\n",
            "       sleep-improvement       0.43      1.00      0.60         3\n",
            "    social-relationships       0.71      0.71      0.71         7\n",
            "            spirituality       0.86      1.00      0.92        12\n",
            "                  stress       1.00      1.00      1.00         2\n",
            "         substance-abuse       0.38      0.50      0.43         6\n",
            "                  trauma       0.71      0.88      0.79        17\n",
            " workplace-relationships       0.83      1.00      0.91        10\n",
            "\n",
            "                accuracy                           0.75       523\n",
            "               macro avg       0.66      0.75      0.69       523\n",
            "            weighted avg       0.79      0.75      0.76       523\n",
            "\n"
          ]
        },
        {
          "output_type": "stream",
          "name": "stderr",
          "text": [
            "/usr/local/lib/python3.10/dist-packages/sklearn/metrics/_classification.py:1565: UndefinedMetricWarning: Precision is ill-defined and being set to 0.0 in labels with no predicted samples. Use `zero_division` parameter to control this behavior.\n",
            "  _warn_prf(average, modifier, f\"{metric.capitalize()} is\", len(result))\n",
            "/usr/local/lib/python3.10/dist-packages/sklearn/metrics/_classification.py:1565: UndefinedMetricWarning: Precision is ill-defined and being set to 0.0 in labels with no predicted samples. Use `zero_division` parameter to control this behavior.\n",
            "  _warn_prf(average, modifier, f\"{metric.capitalize()} is\", len(result))\n",
            "/usr/local/lib/python3.10/dist-packages/sklearn/metrics/_classification.py:1565: UndefinedMetricWarning: Precision is ill-defined and being set to 0.0 in labels with no predicted samples. Use `zero_division` parameter to control this behavior.\n",
            "  _warn_prf(average, modifier, f\"{metric.capitalize()} is\", len(result))\n"
          ]
        }
      ],
      "source": [
        "from sklearn.utils.class_weight import compute_class_weight\n",
        "import numpy as np\n",
        "\n",
        "# Step 1: Handle Class Imbalance with Class Weights\n",
        "class_weights = compute_class_weight(\n",
        "    class_weight='balanced',\n",
        "    classes=np.unique(y_train),\n",
        "    y=y_train\n",
        ")\n",
        "\n",
        "class_weight_dict = dict(zip(np.unique(y_train), class_weights))\n",
        "\n",
        "# Step 2: Use Class Weights in Logistic Regression\n",
        "from sklearn.linear_model import LogisticRegression\n",
        "\n",
        "classifier = LogisticRegression(max_iter=1000, class_weight=class_weight_dict)\n",
        "classifier.fit(X_train, y_train)\n",
        "\n",
        "# Evaluate the model\n",
        "y_pred = classifier.predict(X_test)\n",
        "from sklearn.metrics import classification_report\n",
        "print(\"Classification Report:\")\n",
        "print(classification_report(y_test, y_pred))\n"
      ]
    },
    {
      "cell_type": "code",
      "source": [
        "# Example Usage\n",
        "new_question = \"I think I'm the best in the world!! Nobody can beat me!!\"\n",
        "predicted_topic = predict_topic(new_question)\n",
        "print(f\"Predicted sentiment of the question asked: {predicted_topic}\")"
      ],
      "metadata": {
        "colab": {
          "base_uri": "https://localhost:8080/"
        },
        "id": "3NF279_g12m2",
        "outputId": "8cfbcc7f-938e-4893-a3f5-351d43fd4394"
      },
      "execution_count": null,
      "outputs": [
        {
          "output_type": "stream",
          "name": "stdout",
          "text": [
            "Predicted sentiment of the question asked: self-esteem\n"
          ]
        }
      ]
    },
    {
      "cell_type": "code",
      "source": [
        "joblib.dump(classifier, \"logistic_regression_model.pkl\")\n",
        "print(\"Model saved as 'logistic_regression_model.pkl'\")"
      ],
      "metadata": {
        "colab": {
          "base_uri": "https://localhost:8080/"
        },
        "id": "IfOyZ7QI2jsN",
        "outputId": "b511fa6f-a268-49d6-ce08-e2e5dbbfe316"
      },
      "execution_count": null,
      "outputs": [
        {
          "output_type": "stream",
          "name": "stdout",
          "text": [
            "Model saved as 'logistic_regression_model.pkl'\n"
          ]
        }
      ]
    },
    {
      "cell_type": "code",
      "source": [
        "# Load the saved model\n",
        "classifier = joblib.load(\"logistic_regression_model.pkl\")\n",
        "\n",
        "# Predict using the loaded model\n",
        "new_question = \"I cant quit smoking\"\n",
        "new_embedding = model.encode([new_question])  # Use the same Sentence-BERT model\n",
        "predicted_topic = classifier.predict(new_embedding)[0]\n",
        "print(f\"Predicted Topic: {predicted_topic}\")\n"
      ],
      "metadata": {
        "colab": {
          "base_uri": "https://localhost:8080/"
        },
        "id": "PZU9w4zw2juu",
        "outputId": "ceca1bf4-d1bb-4961-d4c3-e017b8f6ff74"
      },
      "execution_count": null,
      "outputs": [
        {
          "output_type": "stream",
          "name": "stdout",
          "text": [
            "Predicted Topic: substance-abuse\n"
          ]
        }
      ]
    },
    {
      "cell_type": "code",
      "source": [
        "# Save the trained Logistic Regression model to a .pkl file\n",
        "joblib.dump(classifier, \"logistic_regression_model.pkl\")\n",
        "\n",
        "# Code to download the saved file (specific to Google Colab)\n",
        "from google.colab import files\n",
        "files.download(\"logistic_regression_model.pkl\")"
      ],
      "metadata": {
        "colab": {
          "base_uri": "https://localhost:8080/",
          "height": 17
        },
        "id": "g96IcV332jxU",
        "outputId": "e1221da3-afd6-4bd9-f98a-4719a04735e5"
      },
      "execution_count": null,
      "outputs": [
        {
          "output_type": "display_data",
          "data": {
            "text/plain": [
              "<IPython.core.display.Javascript object>"
            ],
            "application/javascript": [
              "\n",
              "    async function download(id, filename, size) {\n",
              "      if (!google.colab.kernel.accessAllowed) {\n",
              "        return;\n",
              "      }\n",
              "      const div = document.createElement('div');\n",
              "      const label = document.createElement('label');\n",
              "      label.textContent = `Downloading \"${filename}\": `;\n",
              "      div.appendChild(label);\n",
              "      const progress = document.createElement('progress');\n",
              "      progress.max = size;\n",
              "      div.appendChild(progress);\n",
              "      document.body.appendChild(div);\n",
              "\n",
              "      const buffers = [];\n",
              "      let downloaded = 0;\n",
              "\n",
              "      const channel = await google.colab.kernel.comms.open(id);\n",
              "      // Send a message to notify the kernel that we're ready.\n",
              "      channel.send({})\n",
              "\n",
              "      for await (const message of channel.messages) {\n",
              "        // Send a message to notify the kernel that we're ready.\n",
              "        channel.send({})\n",
              "        if (message.buffers) {\n",
              "          for (const buffer of message.buffers) {\n",
              "            buffers.push(buffer);\n",
              "            downloaded += buffer.byteLength;\n",
              "            progress.value = downloaded;\n",
              "          }\n",
              "        }\n",
              "      }\n",
              "      const blob = new Blob(buffers, {type: 'application/binary'});\n",
              "      const a = document.createElement('a');\n",
              "      a.href = window.URL.createObjectURL(blob);\n",
              "      a.download = filename;\n",
              "      div.appendChild(a);\n",
              "      a.click();\n",
              "      div.remove();\n",
              "    }\n",
              "  "
            ]
          },
          "metadata": {}
        },
        {
          "output_type": "display_data",
          "data": {
            "text/plain": [
              "<IPython.core.display.Javascript object>"
            ],
            "application/javascript": [
              "download(\"download_7d8462fb-f780-47cb-b1bc-5830d76fdd5e\", \"logistic_regression_model.pkl\", 95207)"
            ]
          },
          "metadata": {}
        }
      ]
    },
    {
      "cell_type": "code",
      "source": [
        "# Example Usage\n",
        "new_question = \"I feel like i might be harassed by my colleague\"\n",
        "predicted_topic = predict_topic(new_question)\n",
        "print(f\"Predicted sentiment of the question asked: {predicted_topic}\")\n"
      ],
      "metadata": {
        "colab": {
          "base_uri": "https://localhost:8080/"
        },
        "id": "D4g_9Q8y2jz9",
        "outputId": "ea4392ad-a4f7-44d8-c1f6-4c5fa53bcf3b"
      },
      "execution_count": null,
      "outputs": [
        {
          "output_type": "stream",
          "name": "stdout",
          "text": [
            "Predicted sentiment of the question asked: workplace-relationships\n"
          ]
        }
      ]
    },
    {
      "cell_type": "code",
      "source": [],
      "metadata": {
        "id": "X50KJ99q2j2b"
      },
      "execution_count": null,
      "outputs": []
    },
    {
      "cell_type": "code",
      "source": [],
      "metadata": {
        "id": "ra7imBIw2j44"
      },
      "execution_count": null,
      "outputs": []
    },
    {
      "cell_type": "code",
      "source": [],
      "metadata": {
        "id": "Q9YRVhrD2j7f"
      },
      "execution_count": null,
      "outputs": []
    },
    {
      "cell_type": "code",
      "source": [],
      "metadata": {
        "id": "WJhteShL2j-E"
      },
      "execution_count": null,
      "outputs": []
    },
    {
      "cell_type": "code",
      "source": [],
      "metadata": {
        "id": "ROMyddo_2kAg"
      },
      "execution_count": null,
      "outputs": []
    },
    {
      "cell_type": "code",
      "source": [],
      "metadata": {
        "id": "dMtVwsiZ2kEE"
      },
      "execution_count": null,
      "outputs": []
    },
    {
      "cell_type": "markdown",
      "metadata": {
        "id": "v481Qn4r2d4h"
      },
      "source": []
    },
    {
      "cell_type": "code",
      "execution_count": null,
      "metadata": {
        "id": "xI3MeB-l2exc"
      },
      "outputs": [],
      "source": [
        "from sklearn.ensemble import RandomForestClassifier  # Add this line\n",
        "from sklearn.metrics import classification_report\n",
        "from sklearn.model_selection import train_test_split"
      ]
    },
    {
      "cell_type": "code",
      "execution_count": null,
      "metadata": {
        "colab": {
          "base_uri": "https://localhost:8080/",
          "height": 813,
          "referenced_widgets": [
            "369619c61700420db9cb6d4a3a07bcf0",
            "1c2833bfa8e144abb6e98e2a1cec14c3",
            "cad2010fd21a492a9096c7ae2661c910",
            "3fbdda7bc9dc45508278f38b43dd018f",
            "5a27ca3a2dd3421eb6de0393eef2acbb",
            "8d6c1f56f2df411792aeafd7080955ec",
            "55a8afe92f744165b01c9dffe38359f9",
            "1afd64acf86b4b35aff05c99d519860c",
            "c1f51f327a2741578e17e142d0d7632f",
            "8365cf728057408c82098d0410e063be",
            "13f211e4b2e747fe8e5c80f9ff16d4aa"
          ]
        },
        "id": "aKdm8zlemfv_",
        "outputId": "8f3694ca-32ff-49a8-9d58-f93f7e99150f"
      },
      "outputs": [
        {
          "output_type": "display_data",
          "data": {
            "text/plain": [
              "Batches:   0%|          | 0/82 [00:00<?, ?it/s]"
            ],
            "application/vnd.jupyter.widget-view+json": {
              "version_major": 2,
              "version_minor": 0,
              "model_id": "369619c61700420db9cb6d4a3a07bcf0"
            }
          },
          "metadata": {}
        },
        {
          "output_type": "stream",
          "name": "stdout",
          "text": [
            "Classification Report:\n",
            "                          precision    recall  f1-score   support\n",
            "\n",
            "               addiction       0.00      0.00      0.00         1\n",
            "        anger-management       1.00      0.29      0.44         7\n",
            "                 anxiety       0.88      0.92      0.90        76\n",
            "       behavioral-change       1.00      0.62      0.76        13\n",
            "    children-adolescents       1.00      1.00      1.00         3\n",
            " counseling-fundamentals       1.00      1.00      1.00        53\n",
            "              depression       0.80      0.96      0.87        94\n",
            "               diagnosis       1.00      1.00      1.00         4\n",
            "       domestic-violence       0.00      0.00      0.00         2\n",
            "        eating-disorders       1.00      1.00      1.00         2\n",
            "         family-conflict       0.85      0.88      0.86        25\n",
            "          grief-and-loss       1.00      0.75      0.86         4\n",
            "         human-sexuality       0.00      0.00      0.00         1\n",
            "                intimacy       0.66      0.81      0.73        43\n",
            "        legal-regulatory       1.00      1.00      1.00         1\n",
            "                   lgbtq       1.00      1.00      1.00        11\n",
            "                marriage       1.00      0.57      0.73         7\n",
            "         military-issues       1.00      1.00      1.00         1\n",
            "               parenting       0.97      0.95      0.96        39\n",
            "     professional-ethics       1.00      1.00      1.00         5\n",
            "relationship-dissolution       1.00      1.00      1.00        16\n",
            "           relationships       0.78      0.76      0.77        46\n",
            "             self-esteem       1.00      0.75      0.86        12\n",
            "       sleep-improvement       1.00      1.00      1.00         3\n",
            "    social-relationships       1.00      0.57      0.73         7\n",
            "            spirituality       1.00      1.00      1.00        12\n",
            "                  stress       1.00      1.00      1.00         2\n",
            "         substance-abuse       1.00      0.83      0.91         6\n",
            "                  trauma       1.00      0.94      0.97        17\n",
            " workplace-relationships       1.00      0.50      0.67        10\n",
            "\n",
            "                accuracy                           0.88       523\n",
            "               macro avg       0.86      0.77      0.80       523\n",
            "            weighted avg       0.88      0.88      0.87       523\n",
            "\n"
          ]
        },
        {
          "output_type": "stream",
          "name": "stderr",
          "text": [
            "/usr/local/lib/python3.10/dist-packages/sklearn/metrics/_classification.py:1565: UndefinedMetricWarning: Precision is ill-defined and being set to 0.0 in labels with no predicted samples. Use `zero_division` parameter to control this behavior.\n",
            "  _warn_prf(average, modifier, f\"{metric.capitalize()} is\", len(result))\n",
            "/usr/local/lib/python3.10/dist-packages/sklearn/metrics/_classification.py:1565: UndefinedMetricWarning: Precision is ill-defined and being set to 0.0 in labels with no predicted samples. Use `zero_division` parameter to control this behavior.\n",
            "  _warn_prf(average, modifier, f\"{metric.capitalize()} is\", len(result))\n",
            "/usr/local/lib/python3.10/dist-packages/sklearn/metrics/_classification.py:1565: UndefinedMetricWarning: Precision is ill-defined and being set to 0.0 in labels with no predicted samples. Use `zero_division` parameter to control this behavior.\n",
            "  _warn_prf(average, modifier, f\"{metric.capitalize()} is\", len(result))\n"
          ]
        }
      ],
      "source": [
        "# Generate new embeddings for the entire dataset\n",
        "X_embeddings_new = model.encode(X.tolist(), show_progress_bar=True)\n",
        "\n",
        "# Split the dataset into train and test sets\n",
        "X_train_new, X_test_new, y_train_new, y_test_new = train_test_split(X_embeddings_new, y, test_size=0.2, random_state=42)\n",
        "\n",
        "# Train the Random Forest classifier on the new embeddings\n",
        "rf_classifier = RandomForestClassifier(n_estimators=200, random_state=42, class_weight=\"balanced\")\n",
        "rf_classifier.fit(X_train_new, y_train_new)\n",
        "\n",
        "# Evaluate the model\n",
        "y_pred_new = rf_classifier.predict(X_test_new)\n",
        "print(\"Classification Report:\")\n",
        "print(classification_report(y_test_new, y_pred_new))\n"
      ]
    },
    {
      "cell_type": "code",
      "execution_count": null,
      "metadata": {
        "id": "Pkj5m42k1I2m"
      },
      "outputs": [],
      "source": []
    },
    {
      "cell_type": "code",
      "execution_count": null,
      "metadata": {
        "colab": {
          "base_uri": "https://localhost:8080/"
        },
        "id": "-Re5smhUmfzc",
        "outputId": "f0dc56ae-d4e8-45c4-d64b-7efbfe1385db"
      },
      "outputs": [
        {
          "output_type": "stream",
          "name": "stdout",
          "text": [
            "Predicted Topic: depression\n"
          ]
        }
      ],
      "source": [
        "# Define a function for predicting the topic\n",
        "def predict_topic_rf(new_question):\n",
        "    \"\"\"\n",
        "    Predict the topic of a new question using the Random Forest Classifier.\n",
        "    \"\"\"\n",
        "    # Use the updated Sentence-BERT model to encode the new question\n",
        "    new_embedding = model.encode([new_question])\n",
        "\n",
        "    # Predict the topic using the trained Random Forest model\n",
        "    predicted_topic = rf_classifier.predict(new_embedding)[0]\n",
        "    return predicted_topic\n",
        "\n",
        "# Example question for prediction\n",
        "new_question = \"How can I improve my relationships with my family?\"\n",
        "\n",
        "# Predict the topic\n",
        "predicted_topic = predict_topic_rf(new_question)\n",
        "\n",
        "# Print the result\n",
        "print(f\"Predicted Topic: {predicted_topic}\")\n"
      ]
    },
    {
      "cell_type": "code",
      "execution_count": null,
      "metadata": {
        "colab": {
          "base_uri": "https://localhost:8080/"
        },
        "id": "6mo5EMltkBE9",
        "outputId": "6fbe4de9-6a46-4c4b-e805-70f3463c0f02"
      },
      "outputs": [
        {
          "output_type": "stream",
          "name": "stdout",
          "text": [
            "Predicted Topic: depression\n"
          ]
        }
      ],
      "source": [
        "# Example question for prediction\n",
        "new_question = \"I cant quit smoking?\"\n",
        "\n",
        "# Predict the topic\n",
        "predicted_topic = predict_topic_rf(new_question)\n",
        "\n",
        "# Print the result\n",
        "print(f\"Predicted Topic: {predicted_topic}\")\n"
      ]
    },
    {
      "cell_type": "code",
      "execution_count": null,
      "metadata": {
        "colab": {
          "base_uri": "https://localhost:8080/"
        },
        "id": "jJ5qKax3mFcH",
        "outputId": "ee6aea75-c4dc-4049-f9a4-a3b919c89376"
      },
      "outputs": [
        {
          "output_type": "stream",
          "name": "stdout",
          "text": [
            "Predicted Topic: anxiety\n"
          ]
        }
      ],
      "source": [
        "# Example question for prediction---using random_forest\n",
        "new_question = \"I think I'm the best in the world!! Nobody can beat me!!\"\n",
        "\n",
        "# Predict the topic\n",
        "predicted_topic = predict_topic_rf(new_question)\n",
        "\n",
        "# Print the result\n",
        "print(f\"Predicted Topic: {predicted_topic}\")"
      ]
    },
    {
      "cell_type": "code",
      "execution_count": null,
      "metadata": {
        "colab": {
          "base_uri": "https://localhost:8080/"
        },
        "id": "mnKM5uG9_MU3",
        "outputId": "b38513bc-1f3e-4a7b-b7ce-b9070f45e986"
      },
      "outputs": [
        {
          "output_type": "stream",
          "name": "stdout",
          "text": [
            "Predicted sentiment of the question asked: self-esteem\n"
          ]
        }
      ],
      "source": [
        "# Example Usage for prediction using logistic regression\n",
        "new_question = \"I think I'm the best in the world!! Nobody can beat me!!\"\n",
        "predicted_topic = predict_topic(new_question)\n",
        "print(f\"Predicted sentiment of the question asked: {predicted_topic}\")"
      ]
    },
    {
      "cell_type": "code",
      "execution_count": null,
      "metadata": {
        "colab": {
          "base_uri": "https://localhost:8080/"
        },
        "id": "XJJowHTf_dps",
        "outputId": "b5cd6720-f8f2-4c16-bf2c-9624e1c52b60"
      },
      "outputs": [
        {
          "output_type": "stream",
          "name": "stdout",
          "text": [
            "Model saved successfully as random_forest_model.pkl\n"
          ]
        }
      ],
      "source": [
        "import joblib\n",
        "\n",
        "# Save the trained Random Forest classifier\n",
        "joblib.dump(rf_classifier, \"random_forest_model.pkl\")\n",
        "\n",
        "print(\"Model saved successfully as random_forest_model.pkl\")\n"
      ]
    },
    {
      "cell_type": "code",
      "execution_count": null,
      "metadata": {
        "colab": {
          "base_uri": "https://localhost:8080/",
          "height": 17
        },
        "id": "O0F7TMvfCOEo",
        "outputId": "6d746a23-e3b5-436e-8da7-5c65bd9c7928"
      },
      "outputs": [
        {
          "output_type": "display_data",
          "data": {
            "text/plain": [
              "<IPython.core.display.Javascript object>"
            ],
            "application/javascript": [
              "\n",
              "    async function download(id, filename, size) {\n",
              "      if (!google.colab.kernel.accessAllowed) {\n",
              "        return;\n",
              "      }\n",
              "      const div = document.createElement('div');\n",
              "      const label = document.createElement('label');\n",
              "      label.textContent = `Downloading \"${filename}\": `;\n",
              "      div.appendChild(label);\n",
              "      const progress = document.createElement('progress');\n",
              "      progress.max = size;\n",
              "      div.appendChild(progress);\n",
              "      document.body.appendChild(div);\n",
              "\n",
              "      const buffers = [];\n",
              "      let downloaded = 0;\n",
              "\n",
              "      const channel = await google.colab.kernel.comms.open(id);\n",
              "      // Send a message to notify the kernel that we're ready.\n",
              "      channel.send({})\n",
              "\n",
              "      for await (const message of channel.messages) {\n",
              "        // Send a message to notify the kernel that we're ready.\n",
              "        channel.send({})\n",
              "        if (message.buffers) {\n",
              "          for (const buffer of message.buffers) {\n",
              "            buffers.push(buffer);\n",
              "            downloaded += buffer.byteLength;\n",
              "            progress.value = downloaded;\n",
              "          }\n",
              "        }\n",
              "      }\n",
              "      const blob = new Blob(buffers, {type: 'application/binary'});\n",
              "      const a = document.createElement('a');\n",
              "      a.href = window.URL.createObjectURL(blob);\n",
              "      a.download = filename;\n",
              "      div.appendChild(a);\n",
              "      a.click();\n",
              "      div.remove();\n",
              "    }\n",
              "  "
            ]
          },
          "metadata": {}
        },
        {
          "output_type": "display_data",
          "data": {
            "text/plain": [
              "<IPython.core.display.Javascript object>"
            ],
            "application/javascript": [
              "download(\"download_d5b5b422-df5b-4a2d-8d9b-7ede5c963744\", \"random_forest_model.pkl\", 40612601)"
            ]
          },
          "metadata": {}
        }
      ],
      "source": [
        "from google.colab import files\n",
        "files.download(\"random_forest_model.pkl\")\n"
      ]
    },
    {
      "cell_type": "code",
      "execution_count": null,
      "metadata": {
        "colab": {
          "base_uri": "https://localhost:8080/"
        },
        "id": "efsTM5gp1AhU",
        "outputId": "13ebe5ac-b8ee-42e4-fe5a-31c6dc2281f4"
      },
      "outputs": [
        {
          "output_type": "stream",
          "name": "stdout",
          "text": [
            "Predicted Topic: depression\n"
          ]
        }
      ],
      "source": [
        "import joblib\n",
        "\n",
        "# Load the saved Random Forest model\n",
        "rf_classifier = joblib.load(\"random_forest_model.pkl\")\n",
        "\n",
        "# Use the loaded model for prediction\n",
        "example_question_embedding = model.encode([\"I cant quit smoking\"])\n",
        "predicted_topic = rf_classifier.predict(example_question_embedding)[0]\n",
        "\n",
        "print(f\"Predicted Topic: {predicted_topic}\")\n"
      ]
    },
    {
      "cell_type": "code",
      "execution_count": null,
      "metadata": {
        "colab": {
          "base_uri": "https://localhost:8080/"
        },
        "id": "DaFwV1R11AkD",
        "outputId": "58e99880-4e54-4ed2-e917-c9c286a78fd0"
      },
      "outputs": [
        {
          "output_type": "stream",
          "name": "stdout",
          "text": [
            "Predicted sentiment of the question asked: self-esteem\n"
          ]
        }
      ],
      "source": [
        "# Example Usage\n",
        "new_question = \"I think I'm the best in the world!! Nobody can beat me!!\"\n",
        "predicted_topic = predict_topic(new_question)\n",
        "print(f\"Predicted sentiment of the question asked: {predicted_topic}\")"
      ]
    },
    {
      "cell_type": "code",
      "execution_count": null,
      "metadata": {
        "id": "PyLesOUcCwhe"
      },
      "outputs": [],
      "source": []
    },
    {
      "cell_type": "code",
      "execution_count": null,
      "metadata": {
        "colab": {
          "base_uri": "https://localhost:8080/"
        },
        "id": "tuTYNH9D1ocj",
        "outputId": "70f7f1a7-638b-430f-87c8-0c2e1c2ffd6b"
      },
      "outputs": [
        {
          "output_type": "stream",
          "name": "stdout",
          "text": [
            "Requirement already satisfied: flask-ngrok in /usr/local/lib/python3.10/dist-packages (0.0.25)\n",
            "Requirement already satisfied: Flask>=0.8 in /usr/local/lib/python3.10/dist-packages (from flask-ngrok) (3.1.0)\n",
            "Requirement already satisfied: requests in /usr/local/lib/python3.10/dist-packages (from flask-ngrok) (2.32.3)\n",
            "Requirement already satisfied: Werkzeug>=3.1 in /usr/local/lib/python3.10/dist-packages (from Flask>=0.8->flask-ngrok) (3.1.3)\n",
            "Requirement already satisfied: Jinja2>=3.1.2 in /usr/local/lib/python3.10/dist-packages (from Flask>=0.8->flask-ngrok) (3.1.4)\n",
            "Requirement already satisfied: itsdangerous>=2.2 in /usr/local/lib/python3.10/dist-packages (from Flask>=0.8->flask-ngrok) (2.2.0)\n",
            "Requirement already satisfied: click>=8.1.3 in /usr/local/lib/python3.10/dist-packages (from Flask>=0.8->flask-ngrok) (8.1.7)\n",
            "Requirement already satisfied: blinker>=1.9 in /usr/local/lib/python3.10/dist-packages (from Flask>=0.8->flask-ngrok) (1.9.0)\n",
            "Requirement already satisfied: charset-normalizer<4,>=2 in /usr/local/lib/python3.10/dist-packages (from requests->flask-ngrok) (3.4.0)\n",
            "Requirement already satisfied: idna<4,>=2.5 in /usr/local/lib/python3.10/dist-packages (from requests->flask-ngrok) (3.10)\n",
            "Requirement already satisfied: urllib3<3,>=1.21.1 in /usr/local/lib/python3.10/dist-packages (from requests->flask-ngrok) (2.2.3)\n",
            "Requirement already satisfied: certifi>=2017.4.17 in /usr/local/lib/python3.10/dist-packages (from requests->flask-ngrok) (2024.12.14)\n",
            "Requirement already satisfied: MarkupSafe>=2.0 in /usr/local/lib/python3.10/dist-packages (from Jinja2>=3.1.2->Flask>=0.8->flask-ngrok) (3.0.2)\n"
          ]
        }
      ],
      "source": [
        "pip install flask-ngrok"
      ]
    },
    {
      "cell_type": "code",
      "execution_count": null,
      "metadata": {
        "colab": {
          "base_uri": "https://localhost:8080/"
        },
        "id": "AEIjhQy135Fs",
        "outputId": "19a3fe01-e8a6-48d7-cbdc-953dc615f4b1"
      },
      "outputs": [
        {
          "output_type": "stream",
          "name": "stdout",
          "text": [
            "Drive already mounted at ./drive; to attempt to forcibly remount, call drive.mount(\"./drive\", force_remount=True).\n"
          ]
        }
      ],
      "source": []
    },
    {
      "cell_type": "code",
      "execution_count": null,
      "metadata": {
        "colab": {
          "base_uri": "https://localhost:8080/"
        },
        "id": "t8-YC-F935Hx",
        "outputId": "144e5340-5a6f-40c4-8f5e-2682c35aa680"
      },
      "outputs": [
        {
          "output_type": "stream",
          "name": "stdout",
          "text": [
            "Model saved successfully in /content/drive/My Drive/data/random_forest_model.pkl\n"
          ]
        }
      ],
      "source": [
        "\n",
        "\n"
      ]
    },
    {
      "cell_type": "code",
      "execution_count": null,
      "metadata": {
        "colab": {
          "base_uri": "https://localhost:8080/"
        },
        "id": "aFYKjaqu4znx",
        "outputId": "8ffb87af-45a1-4d9b-b984-0d0da2906196"
      },
      "outputs": [
        {
          "output_type": "stream",
          "name": "stdout",
          "text": [
            "Predicted Topic: depression\n"
          ]
        }
      ],
      "source": []
    },
    {
      "cell_type": "code",
      "execution_count": null,
      "metadata": {
        "id": "LwGyZWTr35LU"
      },
      "outputs": [],
      "source": [
        "\n"
      ]
    },
    {
      "cell_type": "code",
      "execution_count": null,
      "metadata": {
        "id": "7LyAwjdlxU0D"
      },
      "outputs": [],
      "source": []
    },
    {
      "cell_type": "code",
      "execution_count": null,
      "metadata": {
        "id": "5JyZ552ExYBU"
      },
      "outputs": [],
      "source": []
    },
    {
      "cell_type": "code",
      "execution_count": null,
      "metadata": {
        "id": "e9e5AGAUyV_y"
      },
      "outputs": [],
      "source": []
    }
  ],
  "metadata": {
    "colab": {
      "provenance": []
    },
    "kernelspec": {
      "display_name": "Python 3",
      "name": "python3"
    },
    "language_info": {
      "name": "python"
    },
    "widgets": {
      "application/vnd.jupyter.widget-state+json": {
        "95100ce348fa4018afb6e2bfafc12b25": {
          "model_module": "@jupyter-widgets/controls",
          "model_name": "HBoxModel",
          "model_module_version": "1.5.0",
          "state": {
            "_dom_classes": [],
            "_model_module": "@jupyter-widgets/controls",
            "_model_module_version": "1.5.0",
            "_model_name": "HBoxModel",
            "_view_count": null,
            "_view_module": "@jupyter-widgets/controls",
            "_view_module_version": "1.5.0",
            "_view_name": "HBoxView",
            "box_style": "",
            "children": [
              "IPY_MODEL_257a0d058a544b75980a6396c4875d11",
              "IPY_MODEL_0b01e6866dc1494ab7156c83905b7d2b",
              "IPY_MODEL_8baccd6f1bc649dfa58c3f73f8d34721"
            ],
            "layout": "IPY_MODEL_4c3020b206384fbc97e7efd0b584d088"
          }
        },
        "257a0d058a544b75980a6396c4875d11": {
          "model_module": "@jupyter-widgets/controls",
          "model_name": "HTMLModel",
          "model_module_version": "1.5.0",
          "state": {
            "_dom_classes": [],
            "_model_module": "@jupyter-widgets/controls",
            "_model_module_version": "1.5.0",
            "_model_name": "HTMLModel",
            "_view_count": null,
            "_view_module": "@jupyter-widgets/controls",
            "_view_module_version": "1.5.0",
            "_view_name": "HTMLView",
            "description": "",
            "description_tooltip": null,
            "layout": "IPY_MODEL_634b442369ea4c50b21e0fda56158a79",
            "placeholder": "​",
            "style": "IPY_MODEL_9e4d43c7019b4eab9d14186caeb7c2ba",
            "value": "Batches: 100%"
          }
        },
        "0b01e6866dc1494ab7156c83905b7d2b": {
          "model_module": "@jupyter-widgets/controls",
          "model_name": "FloatProgressModel",
          "model_module_version": "1.5.0",
          "state": {
            "_dom_classes": [],
            "_model_module": "@jupyter-widgets/controls",
            "_model_module_version": "1.5.0",
            "_model_name": "FloatProgressModel",
            "_view_count": null,
            "_view_module": "@jupyter-widgets/controls",
            "_view_module_version": "1.5.0",
            "_view_name": "ProgressView",
            "bar_style": "success",
            "description": "",
            "description_tooltip": null,
            "layout": "IPY_MODEL_61f2b9d6d99f448a8feff36917690dd4",
            "max": 82,
            "min": 0,
            "orientation": "horizontal",
            "style": "IPY_MODEL_79b4f408ee914cef96dd99871cbd0304",
            "value": 82
          }
        },
        "8baccd6f1bc649dfa58c3f73f8d34721": {
          "model_module": "@jupyter-widgets/controls",
          "model_name": "HTMLModel",
          "model_module_version": "1.5.0",
          "state": {
            "_dom_classes": [],
            "_model_module": "@jupyter-widgets/controls",
            "_model_module_version": "1.5.0",
            "_model_name": "HTMLModel",
            "_view_count": null,
            "_view_module": "@jupyter-widgets/controls",
            "_view_module_version": "1.5.0",
            "_view_name": "HTMLView",
            "description": "",
            "description_tooltip": null,
            "layout": "IPY_MODEL_760b033f0093411fbd1768d61e23dbd3",
            "placeholder": "​",
            "style": "IPY_MODEL_5c748606946f478faf2d45362860d0a6",
            "value": " 82/82 [01:39&lt;00:00,  3.83it/s]"
          }
        },
        "4c3020b206384fbc97e7efd0b584d088": {
          "model_module": "@jupyter-widgets/base",
          "model_name": "LayoutModel",
          "model_module_version": "1.2.0",
          "state": {
            "_model_module": "@jupyter-widgets/base",
            "_model_module_version": "1.2.0",
            "_model_name": "LayoutModel",
            "_view_count": null,
            "_view_module": "@jupyter-widgets/base",
            "_view_module_version": "1.2.0",
            "_view_name": "LayoutView",
            "align_content": null,
            "align_items": null,
            "align_self": null,
            "border": null,
            "bottom": null,
            "display": null,
            "flex": null,
            "flex_flow": null,
            "grid_area": null,
            "grid_auto_columns": null,
            "grid_auto_flow": null,
            "grid_auto_rows": null,
            "grid_column": null,
            "grid_gap": null,
            "grid_row": null,
            "grid_template_areas": null,
            "grid_template_columns": null,
            "grid_template_rows": null,
            "height": null,
            "justify_content": null,
            "justify_items": null,
            "left": null,
            "margin": null,
            "max_height": null,
            "max_width": null,
            "min_height": null,
            "min_width": null,
            "object_fit": null,
            "object_position": null,
            "order": null,
            "overflow": null,
            "overflow_x": null,
            "overflow_y": null,
            "padding": null,
            "right": null,
            "top": null,
            "visibility": null,
            "width": null
          }
        },
        "634b442369ea4c50b21e0fda56158a79": {
          "model_module": "@jupyter-widgets/base",
          "model_name": "LayoutModel",
          "model_module_version": "1.2.0",
          "state": {
            "_model_module": "@jupyter-widgets/base",
            "_model_module_version": "1.2.0",
            "_model_name": "LayoutModel",
            "_view_count": null,
            "_view_module": "@jupyter-widgets/base",
            "_view_module_version": "1.2.0",
            "_view_name": "LayoutView",
            "align_content": null,
            "align_items": null,
            "align_self": null,
            "border": null,
            "bottom": null,
            "display": null,
            "flex": null,
            "flex_flow": null,
            "grid_area": null,
            "grid_auto_columns": null,
            "grid_auto_flow": null,
            "grid_auto_rows": null,
            "grid_column": null,
            "grid_gap": null,
            "grid_row": null,
            "grid_template_areas": null,
            "grid_template_columns": null,
            "grid_template_rows": null,
            "height": null,
            "justify_content": null,
            "justify_items": null,
            "left": null,
            "margin": null,
            "max_height": null,
            "max_width": null,
            "min_height": null,
            "min_width": null,
            "object_fit": null,
            "object_position": null,
            "order": null,
            "overflow": null,
            "overflow_x": null,
            "overflow_y": null,
            "padding": null,
            "right": null,
            "top": null,
            "visibility": null,
            "width": null
          }
        },
        "9e4d43c7019b4eab9d14186caeb7c2ba": {
          "model_module": "@jupyter-widgets/controls",
          "model_name": "DescriptionStyleModel",
          "model_module_version": "1.5.0",
          "state": {
            "_model_module": "@jupyter-widgets/controls",
            "_model_module_version": "1.5.0",
            "_model_name": "DescriptionStyleModel",
            "_view_count": null,
            "_view_module": "@jupyter-widgets/base",
            "_view_module_version": "1.2.0",
            "_view_name": "StyleView",
            "description_width": ""
          }
        },
        "61f2b9d6d99f448a8feff36917690dd4": {
          "model_module": "@jupyter-widgets/base",
          "model_name": "LayoutModel",
          "model_module_version": "1.2.0",
          "state": {
            "_model_module": "@jupyter-widgets/base",
            "_model_module_version": "1.2.0",
            "_model_name": "LayoutModel",
            "_view_count": null,
            "_view_module": "@jupyter-widgets/base",
            "_view_module_version": "1.2.0",
            "_view_name": "LayoutView",
            "align_content": null,
            "align_items": null,
            "align_self": null,
            "border": null,
            "bottom": null,
            "display": null,
            "flex": null,
            "flex_flow": null,
            "grid_area": null,
            "grid_auto_columns": null,
            "grid_auto_flow": null,
            "grid_auto_rows": null,
            "grid_column": null,
            "grid_gap": null,
            "grid_row": null,
            "grid_template_areas": null,
            "grid_template_columns": null,
            "grid_template_rows": null,
            "height": null,
            "justify_content": null,
            "justify_items": null,
            "left": null,
            "margin": null,
            "max_height": null,
            "max_width": null,
            "min_height": null,
            "min_width": null,
            "object_fit": null,
            "object_position": null,
            "order": null,
            "overflow": null,
            "overflow_x": null,
            "overflow_y": null,
            "padding": null,
            "right": null,
            "top": null,
            "visibility": null,
            "width": null
          }
        },
        "79b4f408ee914cef96dd99871cbd0304": {
          "model_module": "@jupyter-widgets/controls",
          "model_name": "ProgressStyleModel",
          "model_module_version": "1.5.0",
          "state": {
            "_model_module": "@jupyter-widgets/controls",
            "_model_module_version": "1.5.0",
            "_model_name": "ProgressStyleModel",
            "_view_count": null,
            "_view_module": "@jupyter-widgets/base",
            "_view_module_version": "1.2.0",
            "_view_name": "StyleView",
            "bar_color": null,
            "description_width": ""
          }
        },
        "760b033f0093411fbd1768d61e23dbd3": {
          "model_module": "@jupyter-widgets/base",
          "model_name": "LayoutModel",
          "model_module_version": "1.2.0",
          "state": {
            "_model_module": "@jupyter-widgets/base",
            "_model_module_version": "1.2.0",
            "_model_name": "LayoutModel",
            "_view_count": null,
            "_view_module": "@jupyter-widgets/base",
            "_view_module_version": "1.2.0",
            "_view_name": "LayoutView",
            "align_content": null,
            "align_items": null,
            "align_self": null,
            "border": null,
            "bottom": null,
            "display": null,
            "flex": null,
            "flex_flow": null,
            "grid_area": null,
            "grid_auto_columns": null,
            "grid_auto_flow": null,
            "grid_auto_rows": null,
            "grid_column": null,
            "grid_gap": null,
            "grid_row": null,
            "grid_template_areas": null,
            "grid_template_columns": null,
            "grid_template_rows": null,
            "height": null,
            "justify_content": null,
            "justify_items": null,
            "left": null,
            "margin": null,
            "max_height": null,
            "max_width": null,
            "min_height": null,
            "min_width": null,
            "object_fit": null,
            "object_position": null,
            "order": null,
            "overflow": null,
            "overflow_x": null,
            "overflow_y": null,
            "padding": null,
            "right": null,
            "top": null,
            "visibility": null,
            "width": null
          }
        },
        "5c748606946f478faf2d45362860d0a6": {
          "model_module": "@jupyter-widgets/controls",
          "model_name": "DescriptionStyleModel",
          "model_module_version": "1.5.0",
          "state": {
            "_model_module": "@jupyter-widgets/controls",
            "_model_module_version": "1.5.0",
            "_model_name": "DescriptionStyleModel",
            "_view_count": null,
            "_view_module": "@jupyter-widgets/base",
            "_view_module_version": "1.2.0",
            "_view_name": "StyleView",
            "description_width": ""
          }
        },
        "369619c61700420db9cb6d4a3a07bcf0": {
          "model_module": "@jupyter-widgets/controls",
          "model_name": "HBoxModel",
          "model_module_version": "1.5.0",
          "state": {
            "_dom_classes": [],
            "_model_module": "@jupyter-widgets/controls",
            "_model_module_version": "1.5.0",
            "_model_name": "HBoxModel",
            "_view_count": null,
            "_view_module": "@jupyter-widgets/controls",
            "_view_module_version": "1.5.0",
            "_view_name": "HBoxView",
            "box_style": "",
            "children": [
              "IPY_MODEL_1c2833bfa8e144abb6e98e2a1cec14c3",
              "IPY_MODEL_cad2010fd21a492a9096c7ae2661c910",
              "IPY_MODEL_3fbdda7bc9dc45508278f38b43dd018f"
            ],
            "layout": "IPY_MODEL_5a27ca3a2dd3421eb6de0393eef2acbb"
          }
        },
        "1c2833bfa8e144abb6e98e2a1cec14c3": {
          "model_module": "@jupyter-widgets/controls",
          "model_name": "HTMLModel",
          "model_module_version": "1.5.0",
          "state": {
            "_dom_classes": [],
            "_model_module": "@jupyter-widgets/controls",
            "_model_module_version": "1.5.0",
            "_model_name": "HTMLModel",
            "_view_count": null,
            "_view_module": "@jupyter-widgets/controls",
            "_view_module_version": "1.5.0",
            "_view_name": "HTMLView",
            "description": "",
            "description_tooltip": null,
            "layout": "IPY_MODEL_8d6c1f56f2df411792aeafd7080955ec",
            "placeholder": "​",
            "style": "IPY_MODEL_55a8afe92f744165b01c9dffe38359f9",
            "value": "Batches: 100%"
          }
        },
        "cad2010fd21a492a9096c7ae2661c910": {
          "model_module": "@jupyter-widgets/controls",
          "model_name": "FloatProgressModel",
          "model_module_version": "1.5.0",
          "state": {
            "_dom_classes": [],
            "_model_module": "@jupyter-widgets/controls",
            "_model_module_version": "1.5.0",
            "_model_name": "FloatProgressModel",
            "_view_count": null,
            "_view_module": "@jupyter-widgets/controls",
            "_view_module_version": "1.5.0",
            "_view_name": "ProgressView",
            "bar_style": "success",
            "description": "",
            "description_tooltip": null,
            "layout": "IPY_MODEL_1afd64acf86b4b35aff05c99d519860c",
            "max": 82,
            "min": 0,
            "orientation": "horizontal",
            "style": "IPY_MODEL_c1f51f327a2741578e17e142d0d7632f",
            "value": 82
          }
        },
        "3fbdda7bc9dc45508278f38b43dd018f": {
          "model_module": "@jupyter-widgets/controls",
          "model_name": "HTMLModel",
          "model_module_version": "1.5.0",
          "state": {
            "_dom_classes": [],
            "_model_module": "@jupyter-widgets/controls",
            "_model_module_version": "1.5.0",
            "_model_name": "HTMLModel",
            "_view_count": null,
            "_view_module": "@jupyter-widgets/controls",
            "_view_module_version": "1.5.0",
            "_view_name": "HTMLView",
            "description": "",
            "description_tooltip": null,
            "layout": "IPY_MODEL_8365cf728057408c82098d0410e063be",
            "placeholder": "​",
            "style": "IPY_MODEL_13f211e4b2e747fe8e5c80f9ff16d4aa",
            "value": " 82/82 [01:58&lt;00:00,  4.57it/s]"
          }
        },
        "5a27ca3a2dd3421eb6de0393eef2acbb": {
          "model_module": "@jupyter-widgets/base",
          "model_name": "LayoutModel",
          "model_module_version": "1.2.0",
          "state": {
            "_model_module": "@jupyter-widgets/base",
            "_model_module_version": "1.2.0",
            "_model_name": "LayoutModel",
            "_view_count": null,
            "_view_module": "@jupyter-widgets/base",
            "_view_module_version": "1.2.0",
            "_view_name": "LayoutView",
            "align_content": null,
            "align_items": null,
            "align_self": null,
            "border": null,
            "bottom": null,
            "display": null,
            "flex": null,
            "flex_flow": null,
            "grid_area": null,
            "grid_auto_columns": null,
            "grid_auto_flow": null,
            "grid_auto_rows": null,
            "grid_column": null,
            "grid_gap": null,
            "grid_row": null,
            "grid_template_areas": null,
            "grid_template_columns": null,
            "grid_template_rows": null,
            "height": null,
            "justify_content": null,
            "justify_items": null,
            "left": null,
            "margin": null,
            "max_height": null,
            "max_width": null,
            "min_height": null,
            "min_width": null,
            "object_fit": null,
            "object_position": null,
            "order": null,
            "overflow": null,
            "overflow_x": null,
            "overflow_y": null,
            "padding": null,
            "right": null,
            "top": null,
            "visibility": null,
            "width": null
          }
        },
        "8d6c1f56f2df411792aeafd7080955ec": {
          "model_module": "@jupyter-widgets/base",
          "model_name": "LayoutModel",
          "model_module_version": "1.2.0",
          "state": {
            "_model_module": "@jupyter-widgets/base",
            "_model_module_version": "1.2.0",
            "_model_name": "LayoutModel",
            "_view_count": null,
            "_view_module": "@jupyter-widgets/base",
            "_view_module_version": "1.2.0",
            "_view_name": "LayoutView",
            "align_content": null,
            "align_items": null,
            "align_self": null,
            "border": null,
            "bottom": null,
            "display": null,
            "flex": null,
            "flex_flow": null,
            "grid_area": null,
            "grid_auto_columns": null,
            "grid_auto_flow": null,
            "grid_auto_rows": null,
            "grid_column": null,
            "grid_gap": null,
            "grid_row": null,
            "grid_template_areas": null,
            "grid_template_columns": null,
            "grid_template_rows": null,
            "height": null,
            "justify_content": null,
            "justify_items": null,
            "left": null,
            "margin": null,
            "max_height": null,
            "max_width": null,
            "min_height": null,
            "min_width": null,
            "object_fit": null,
            "object_position": null,
            "order": null,
            "overflow": null,
            "overflow_x": null,
            "overflow_y": null,
            "padding": null,
            "right": null,
            "top": null,
            "visibility": null,
            "width": null
          }
        },
        "55a8afe92f744165b01c9dffe38359f9": {
          "model_module": "@jupyter-widgets/controls",
          "model_name": "DescriptionStyleModel",
          "model_module_version": "1.5.0",
          "state": {
            "_model_module": "@jupyter-widgets/controls",
            "_model_module_version": "1.5.0",
            "_model_name": "DescriptionStyleModel",
            "_view_count": null,
            "_view_module": "@jupyter-widgets/base",
            "_view_module_version": "1.2.0",
            "_view_name": "StyleView",
            "description_width": ""
          }
        },
        "1afd64acf86b4b35aff05c99d519860c": {
          "model_module": "@jupyter-widgets/base",
          "model_name": "LayoutModel",
          "model_module_version": "1.2.0",
          "state": {
            "_model_module": "@jupyter-widgets/base",
            "_model_module_version": "1.2.0",
            "_model_name": "LayoutModel",
            "_view_count": null,
            "_view_module": "@jupyter-widgets/base",
            "_view_module_version": "1.2.0",
            "_view_name": "LayoutView",
            "align_content": null,
            "align_items": null,
            "align_self": null,
            "border": null,
            "bottom": null,
            "display": null,
            "flex": null,
            "flex_flow": null,
            "grid_area": null,
            "grid_auto_columns": null,
            "grid_auto_flow": null,
            "grid_auto_rows": null,
            "grid_column": null,
            "grid_gap": null,
            "grid_row": null,
            "grid_template_areas": null,
            "grid_template_columns": null,
            "grid_template_rows": null,
            "height": null,
            "justify_content": null,
            "justify_items": null,
            "left": null,
            "margin": null,
            "max_height": null,
            "max_width": null,
            "min_height": null,
            "min_width": null,
            "object_fit": null,
            "object_position": null,
            "order": null,
            "overflow": null,
            "overflow_x": null,
            "overflow_y": null,
            "padding": null,
            "right": null,
            "top": null,
            "visibility": null,
            "width": null
          }
        },
        "c1f51f327a2741578e17e142d0d7632f": {
          "model_module": "@jupyter-widgets/controls",
          "model_name": "ProgressStyleModel",
          "model_module_version": "1.5.0",
          "state": {
            "_model_module": "@jupyter-widgets/controls",
            "_model_module_version": "1.5.0",
            "_model_name": "ProgressStyleModel",
            "_view_count": null,
            "_view_module": "@jupyter-widgets/base",
            "_view_module_version": "1.2.0",
            "_view_name": "StyleView",
            "bar_color": null,
            "description_width": ""
          }
        },
        "8365cf728057408c82098d0410e063be": {
          "model_module": "@jupyter-widgets/base",
          "model_name": "LayoutModel",
          "model_module_version": "1.2.0",
          "state": {
            "_model_module": "@jupyter-widgets/base",
            "_model_module_version": "1.2.0",
            "_model_name": "LayoutModel",
            "_view_count": null,
            "_view_module": "@jupyter-widgets/base",
            "_view_module_version": "1.2.0",
            "_view_name": "LayoutView",
            "align_content": null,
            "align_items": null,
            "align_self": null,
            "border": null,
            "bottom": null,
            "display": null,
            "flex": null,
            "flex_flow": null,
            "grid_area": null,
            "grid_auto_columns": null,
            "grid_auto_flow": null,
            "grid_auto_rows": null,
            "grid_column": null,
            "grid_gap": null,
            "grid_row": null,
            "grid_template_areas": null,
            "grid_template_columns": null,
            "grid_template_rows": null,
            "height": null,
            "justify_content": null,
            "justify_items": null,
            "left": null,
            "margin": null,
            "max_height": null,
            "max_width": null,
            "min_height": null,
            "min_width": null,
            "object_fit": null,
            "object_position": null,
            "order": null,
            "overflow": null,
            "overflow_x": null,
            "overflow_y": null,
            "padding": null,
            "right": null,
            "top": null,
            "visibility": null,
            "width": null
          }
        },
        "13f211e4b2e747fe8e5c80f9ff16d4aa": {
          "model_module": "@jupyter-widgets/controls",
          "model_name": "DescriptionStyleModel",
          "model_module_version": "1.5.0",
          "state": {
            "_model_module": "@jupyter-widgets/controls",
            "_model_module_version": "1.5.0",
            "_model_name": "DescriptionStyleModel",
            "_view_count": null,
            "_view_module": "@jupyter-widgets/base",
            "_view_module_version": "1.2.0",
            "_view_name": "StyleView",
            "description_width": ""
          }
        }
      }
    }
  },
  "nbformat": 4,
  "nbformat_minor": 0
}